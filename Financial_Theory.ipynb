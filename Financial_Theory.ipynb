{
  "nbformat": 4,
  "nbformat_minor": 0,
  "metadata": {
    "colab": {
      "provenance": [],
      "authorship_tag": "ABX9TyMxLUDoB1uHHNZ9E2dysJ0E",
      "include_colab_link": true
    },
    "kernelspec": {
      "name": "python3",
      "display_name": "Python 3"
    },
    "language_info": {
      "name": "python"
    }
  },
  "cells": [
    {
      "cell_type": "markdown",
      "metadata": {
        "id": "view-in-github",
        "colab_type": "text"
      },
      "source": [
        "<a href=\"https://colab.research.google.com/github/seunghee-lee/Portfolio/blob/main/Financial_Theory.ipynb\" target=\"_parent\"><img src=\"https://colab.research.google.com/assets/colab-badge.svg\" alt=\"Open In Colab\"/></a>"
      ]
    },
    {
      "cell_type": "markdown",
      "source": [
        "## Financial Theory"
      ],
      "metadata": {
        "id": "LFJV1aEaLpT5"
      }
    },
    {
      "cell_type": "markdown",
      "source": [
        "### 불확실성과 리스크"
      ],
      "metadata": {
        "id": "kf9W1eb7LuuY"
      }
    },
    {
      "cell_type": "code",
      "execution_count": 1,
      "metadata": {
        "id": "QEkspNQ0cTAt"
      },
      "outputs": [],
      "source": [
        "import numpy as np\n",
        "S0 = 10\n",
        "B0 = 10"
      ]
    },
    {
      "cell_type": "code",
      "source": [
        "S1 = np.array((20, 5))\n",
        "B1 = np.array((11, 11))\n",
        "M0 = np.array((S0, B0))\n",
        "M0"
      ],
      "metadata": {
        "colab": {
          "base_uri": "https://localhost:8080/"
        },
        "id": "OWJcamLvdTF3",
        "outputId": "0dbc01d1-e877-4021-9207-16e630adc9d7"
      },
      "execution_count": 2,
      "outputs": [
        {
          "output_type": "execute_result",
          "data": {
            "text/plain": [
              "array([10, 10])"
            ]
          },
          "metadata": {},
          "execution_count": 2
        }
      ]
    },
    {
      "cell_type": "code",
      "source": [
        "M1 = np.array((S1, B1)).T\n",
        "M1"
      ],
      "metadata": {
        "colab": {
          "base_uri": "https://localhost:8080/"
        },
        "id": "L5eLEVQxda5O",
        "outputId": "fd149e03-8081-4c38-cde7-df2b0758e337"
      },
      "execution_count": 3,
      "outputs": [
        {
          "output_type": "execute_result",
          "data": {
            "text/plain": [
              "array([[20, 11],\n",
              "       [ 5, 11]])"
            ]
          },
          "metadata": {},
          "execution_count": 3
        }
      ]
    },
    {
      "cell_type": "code",
      "source": [
        "K = 14.5\n",
        "C1 = np.maximum(S1 - K, 0)\n",
        "C1"
      ],
      "metadata": {
        "colab": {
          "base_uri": "https://localhost:8080/"
        },
        "id": "Ox4WdzRydf-N",
        "outputId": "45c27ed0-5fb4-454a-9b2b-c166443b0e0f"
      },
      "execution_count": 4,
      "outputs": [
        {
          "output_type": "execute_result",
          "data": {
            "text/plain": [
              "array([5.5, 0. ])"
            ]
          },
          "metadata": {},
          "execution_count": 4
        }
      ]
    },
    {
      "cell_type": "code",
      "source": [
        "phi = np.linalg.solve(M1, C1)\n",
        "phi"
      ],
      "metadata": {
        "colab": {
          "base_uri": "https://localhost:8080/"
        },
        "id": "Y8qzZ-5-dpz9",
        "outputId": "88924345-3c89-4d43-8043-75759ac95407"
      },
      "execution_count": 5,
      "outputs": [
        {
          "output_type": "execute_result",
          "data": {
            "text/plain": [
              "array([ 0.36666667, -0.16666667])"
            ]
          },
          "metadata": {},
          "execution_count": 5
        }
      ]
    },
    {
      "cell_type": "code",
      "source": [
        "np.allclose(C1, np.dot(M1, phi))\n",
        "C0 = np.dot(M0, phi)\n",
        "C0"
      ],
      "metadata": {
        "colab": {
          "base_uri": "https://localhost:8080/"
        },
        "id": "vumphKO3d7Ln",
        "outputId": "044c2fca-372c-4f08-ab18-913aa3f95981"
      },
      "execution_count": 6,
      "outputs": [
        {
          "output_type": "execute_result",
          "data": {
            "text/plain": [
              "np.float64(2.0)"
            ]
          },
          "metadata": {},
          "execution_count": 6
        }
      ]
    },
    {
      "cell_type": "markdown",
      "source": [
        "### 기대효용 이론"
      ],
      "metadata": {
        "id": "2eGLSRtUL25o"
      }
    },
    {
      "cell_type": "code",
      "source": [
        "def u(x):\n",
        "    return np.sqrt(x)"
      ],
      "metadata": {
        "id": "283Zpv7PeGXP"
      },
      "execution_count": 7,
      "outputs": []
    },
    {
      "cell_type": "code",
      "source": [
        "phi_A = np.array((0.75, 0.25))\n",
        "phi_D = np.array((0.25, 0.75))"
      ],
      "metadata": {
        "id": "D-HKTFnIe45Y"
      },
      "execution_count": 8,
      "outputs": []
    },
    {
      "cell_type": "code",
      "source": [
        "np.dot(M0, phi_A) == np.dot(M0, phi_D)"
      ],
      "metadata": {
        "colab": {
          "base_uri": "https://localhost:8080/"
        },
        "id": "jfFrwyYce_2h",
        "outputId": "e5daf1dd-0a24-4c7e-83e9-84545959497b"
      },
      "execution_count": 9,
      "outputs": [
        {
          "output_type": "execute_result",
          "data": {
            "text/plain": [
              "np.True_"
            ]
          },
          "metadata": {},
          "execution_count": 9
        }
      ]
    },
    {
      "cell_type": "code",
      "source": [
        "A1 = np.dot(M1, phi_A)\n",
        "A1"
      ],
      "metadata": {
        "colab": {
          "base_uri": "https://localhost:8080/"
        },
        "id": "-zsIfgfAfGkJ",
        "outputId": "837b958d-603a-471a-ee11-5c83b70aa27b"
      },
      "execution_count": 10,
      "outputs": [
        {
          "output_type": "execute_result",
          "data": {
            "text/plain": [
              "array([17.75,  6.5 ])"
            ]
          },
          "metadata": {},
          "execution_count": 10
        }
      ]
    },
    {
      "cell_type": "code",
      "source": [
        "D1 = np.dot(M1, phi_D)\n",
        "D1"
      ],
      "metadata": {
        "colab": {
          "base_uri": "https://localhost:8080/"
        },
        "id": "T5Gu6YmHfVLh",
        "outputId": "c864fceb-b3cc-438e-feb9-9f7763e620d7"
      },
      "execution_count": 11,
      "outputs": [
        {
          "output_type": "execute_result",
          "data": {
            "text/plain": [
              "array([13.25,  9.5 ])"
            ]
          },
          "metadata": {},
          "execution_count": 11
        }
      ]
    },
    {
      "cell_type": "code",
      "source": [
        "P = np.array((0.5, 0.5))"
      ],
      "metadata": {
        "id": "SqbvVsLnfZj1"
      },
      "execution_count": 12,
      "outputs": []
    },
    {
      "cell_type": "code",
      "source": [
        "def EUT(x):\n",
        "    return np.dot(P, u(x))"
      ],
      "metadata": {
        "id": "uV1bikZrfdDq"
      },
      "execution_count": 13,
      "outputs": []
    },
    {
      "cell_type": "code",
      "source": [
        "EUT(A1)"
      ],
      "metadata": {
        "colab": {
          "base_uri": "https://localhost:8080/"
        },
        "id": "AxExjsHvfhA6",
        "outputId": "a873f323-95b7-4c5f-81d4-e658ccbc8867"
      },
      "execution_count": 14,
      "outputs": [
        {
          "output_type": "execute_result",
          "data": {
            "text/plain": [
              "np.float64(3.381292321692286)"
            ]
          },
          "metadata": {},
          "execution_count": 14
        }
      ]
    },
    {
      "cell_type": "code",
      "source": [
        "EUT(D1)"
      ],
      "metadata": {
        "colab": {
          "base_uri": "https://localhost:8080/"
        },
        "id": "GDlP4gvffkGE",
        "outputId": "78cfa6de-4187-4caa-aedf-df03dacdcd3a"
      },
      "execution_count": 15,
      "outputs": [
        {
          "output_type": "execute_result",
          "data": {
            "text/plain": [
              "np.float64(3.3611309730623735)"
            ]
          },
          "metadata": {},
          "execution_count": 15
        }
      ]
    },
    {
      "cell_type": "code",
      "source": [
        "from scipy.optimize import minimize"
      ],
      "metadata": {
        "id": "TMZOuNRYfpS5"
      },
      "execution_count": 16,
      "outputs": []
    },
    {
      "cell_type": "code",
      "source": [
        "w = 10\n",
        "cons = {'type': 'eq', 'fun': lambda phi: np.dot(M0, phi) - w}"
      ],
      "metadata": {
        "id": "tMs5hf1AgDmd"
      },
      "execution_count": 17,
      "outputs": []
    },
    {
      "cell_type": "code",
      "source": [
        "def EUT_(phi):\n",
        "    x = np.dot(M1, phi)\n",
        "    return EUT(x)"
      ],
      "metadata": {
        "id": "nOUptmMVgHbU"
      },
      "execution_count": 18,
      "outputs": []
    },
    {
      "cell_type": "code",
      "source": [
        "opt = minimize(lambda phi: -EUT_(phi),\n",
        "               x0=phi_A,\n",
        "               constraints=cons)"
      ],
      "metadata": {
        "id": "HNybuNe3gJwq"
      },
      "execution_count": 19,
      "outputs": []
    },
    {
      "cell_type": "code",
      "source": [
        "opt"
      ],
      "metadata": {
        "colab": {
          "base_uri": "https://localhost:8080/"
        },
        "id": "T_aJpssogMuZ",
        "outputId": "1e51cd3f-5100-4911-874e-73b0238ae9f8"
      },
      "execution_count": 20,
      "outputs": [
        {
          "output_type": "execute_result",
          "data": {
            "text/plain": [
              "     message: Optimization terminated successfully\n",
              "     success: True\n",
              "      status: 0\n",
              "         fun: -3.385015999493397\n",
              "           x: [ 6.112e-01  3.888e-01]\n",
              "         nit: 4\n",
              "         jac: [-1.692e+00 -1.693e+00]\n",
              "        nfev: 12\n",
              "        njev: 4\n",
              " multipliers: [-1.693e-01]"
            ]
          },
          "metadata": {},
          "execution_count": 20
        }
      ]
    },
    {
      "cell_type": "code",
      "source": [
        "EUT_(opt['x'])"
      ],
      "metadata": {
        "colab": {
          "base_uri": "https://localhost:8080/"
        },
        "id": "dtF18WqFgPoK",
        "outputId": "0c483204-7602-4e06-e081-ca86bbccbda4"
      },
      "execution_count": 21,
      "outputs": [
        {
          "output_type": "execute_result",
          "data": {
            "text/plain": [
              "np.float64(3.385015999493397)"
            ]
          },
          "metadata": {},
          "execution_count": 21
        }
      ]
    },
    {
      "cell_type": "code",
      "source": [
        "np.dot(M0, opt['x'])"
      ],
      "metadata": {
        "colab": {
          "base_uri": "https://localhost:8080/"
        },
        "id": "U26gdypvgWy_",
        "outputId": "94868c7a-3880-4e5f-8167-114161a059f1"
      },
      "execution_count": 22,
      "outputs": [
        {
          "output_type": "execute_result",
          "data": {
            "text/plain": [
              "np.float64(10.0)"
            ]
          },
          "metadata": {},
          "execution_count": 22
        }
      ]
    },
    {
      "cell_type": "markdown",
      "source": [
        "### 평균-분산 포트폴리오 이론"
      ],
      "metadata": {
        "id": "YWSR_nH-MAcx"
      }
    },
    {
      "cell_type": "code",
      "source": [
        "rS = S1 / S0 - 1\n",
        "rS"
      ],
      "metadata": {
        "id": "xNgz0npogkH_",
        "colab": {
          "base_uri": "https://localhost:8080/"
        },
        "outputId": "5e21ca0c-b81c-4013-b2b6-8e189944fe37"
      },
      "execution_count": 23,
      "outputs": [
        {
          "output_type": "execute_result",
          "data": {
            "text/plain": [
              "array([ 1. , -0.5])"
            ]
          },
          "metadata": {},
          "execution_count": 23
        }
      ]
    },
    {
      "cell_type": "code",
      "source": [
        "rB = B1 / B0 - 1\n",
        "rB"
      ],
      "metadata": {
        "colab": {
          "base_uri": "https://localhost:8080/"
        },
        "id": "XG3n5HnaMKD3",
        "outputId": "6093f072-2b62-4137-984e-e2187b6ed620"
      },
      "execution_count": 24,
      "outputs": [
        {
          "output_type": "execute_result",
          "data": {
            "text/plain": [
              "array([0.1, 0.1])"
            ]
          },
          "metadata": {},
          "execution_count": 24
        }
      ]
    },
    {
      "cell_type": "code",
      "source": [
        "def mu(rX):\n",
        "    return np.dot(P, rX)\n",
        "mu(rS)"
      ],
      "metadata": {
        "colab": {
          "base_uri": "https://localhost:8080/"
        },
        "id": "ek_t1_vTMQux",
        "outputId": "3566fb42-888b-4821-de1b-ec9e1f807b8c"
      },
      "execution_count": 25,
      "outputs": [
        {
          "output_type": "execute_result",
          "data": {
            "text/plain": [
              "np.float64(0.25)"
            ]
          },
          "metadata": {},
          "execution_count": 25
        }
      ]
    },
    {
      "cell_type": "code",
      "source": [
        "mu(rB)"
      ],
      "metadata": {
        "colab": {
          "base_uri": "https://localhost:8080/"
        },
        "id": "caPXt-VaMWRc",
        "outputId": "5be00e67-9d17-4a2b-abfd-e3d73327c1f1"
      },
      "execution_count": 26,
      "outputs": [
        {
          "output_type": "execute_result",
          "data": {
            "text/plain": [
              "np.float64(0.10000000000000009)"
            ]
          },
          "metadata": {},
          "execution_count": 26
        }
      ]
    },
    {
      "cell_type": "code",
      "source": [
        "rM = M1 / M0 - 1\n",
        "rM"
      ],
      "metadata": {
        "colab": {
          "base_uri": "https://localhost:8080/"
        },
        "id": "hAFa9vgVMZgQ",
        "outputId": "b2e4ae45-d47b-4706-ed51-72b358eb123d"
      },
      "execution_count": 27,
      "outputs": [
        {
          "output_type": "execute_result",
          "data": {
            "text/plain": [
              "array([[ 1. ,  0.1],\n",
              "       [-0.5,  0.1]])"
            ]
          },
          "metadata": {},
          "execution_count": 27
        }
      ]
    },
    {
      "cell_type": "code",
      "source": [
        "mu(rM)"
      ],
      "metadata": {
        "colab": {
          "base_uri": "https://localhost:8080/"
        },
        "id": "G-r8jp7oMee0",
        "outputId": "712d088f-b129-45c7-b7ba-0ebb3a9a152b"
      },
      "execution_count": 28,
      "outputs": [
        {
          "output_type": "execute_result",
          "data": {
            "text/plain": [
              "array([0.25, 0.1 ])"
            ]
          },
          "metadata": {},
          "execution_count": 28
        }
      ]
    },
    {
      "cell_type": "code",
      "source": [
        "def var(rX):\n",
        "    return ((rX - mu(rX)) ** 2).mean() # 분산함수"
      ],
      "metadata": {
        "id": "e1g2iOSrMjlz"
      },
      "execution_count": 29,
      "outputs": []
    },
    {
      "cell_type": "code",
      "source": [
        "var(rS)"
      ],
      "metadata": {
        "colab": {
          "base_uri": "https://localhost:8080/"
        },
        "id": "Yqi5JcZoMnGQ",
        "outputId": "b4175728-92b0-4782-8f2f-574618a03015"
      },
      "execution_count": 30,
      "outputs": [
        {
          "output_type": "execute_result",
          "data": {
            "text/plain": [
              "np.float64(0.5625)"
            ]
          },
          "metadata": {},
          "execution_count": 30
        }
      ]
    },
    {
      "cell_type": "code",
      "source": [
        "var(rB)"
      ],
      "metadata": {
        "colab": {
          "base_uri": "https://localhost:8080/"
        },
        "id": "8aZifdRQMpip",
        "outputId": "f512bff6-d366-47bd-f22f-dcb55c76a6f8"
      },
      "execution_count": 31,
      "outputs": [
        {
          "output_type": "execute_result",
          "data": {
            "text/plain": [
              "np.float64(0.0)"
            ]
          },
          "metadata": {},
          "execution_count": 31
        }
      ]
    },
    {
      "cell_type": "code",
      "source": [
        "def sigma(rX):\n",
        "    return np.sqrt(var(rX))  # 변동성(표준편차) 함수"
      ],
      "metadata": {
        "id": "bfbdi37OMso1"
      },
      "execution_count": 32,
      "outputs": []
    },
    {
      "cell_type": "code",
      "source": [
        "sigma(rS)"
      ],
      "metadata": {
        "colab": {
          "base_uri": "https://localhost:8080/"
        },
        "id": "0ugylRHaNOrt",
        "outputId": "9e42329f-4b06-4f89-dbbd-1e8165fada24"
      },
      "execution_count": 33,
      "outputs": [
        {
          "output_type": "execute_result",
          "data": {
            "text/plain": [
              "np.float64(0.75)"
            ]
          },
          "metadata": {},
          "execution_count": 33
        }
      ]
    },
    {
      "cell_type": "code",
      "source": [
        "sigma(rB)"
      ],
      "metadata": {
        "colab": {
          "base_uri": "https://localhost:8080/"
        },
        "id": "Y0CqJxC3NRRL",
        "outputId": "1e9fe8b0-956f-460f-dbb5-3f47adc8c169"
      },
      "execution_count": 34,
      "outputs": [
        {
          "output_type": "execute_result",
          "data": {
            "text/plain": [
              "np.float64(0.0)"
            ]
          },
          "metadata": {},
          "execution_count": 34
        }
      ]
    },
    {
      "cell_type": "code",
      "source": [
        "np.cov(rM.T, aweights=P, ddof=0) # 공분산 행렬"
      ],
      "metadata": {
        "colab": {
          "base_uri": "https://localhost:8080/"
        },
        "id": "jUOPKhb5NU_z",
        "outputId": "66db6155-c88a-4406-daec-982a6cbabcd7"
      },
      "execution_count": 35,
      "outputs": [
        {
          "output_type": "execute_result",
          "data": {
            "text/plain": [
              "array([[0.5625, 0.    ],\n",
              "       [0.    , 0.    ]])"
            ]
          },
          "metadata": {},
          "execution_count": 35
        }
      ]
    },
    {
      "cell_type": "code",
      "source": [
        "phi = np.array((0.5, 0.5)) # 가중치 동일"
      ],
      "metadata": {
        "id": "jcfc9hA4NYYj"
      },
      "execution_count": 36,
      "outputs": []
    },
    {
      "cell_type": "code",
      "source": [
        "def mu_phi(phi):\n",
        "    return np.dot(phi, mu(rM))"
      ],
      "metadata": {
        "id": "h33TGZ4KNboq"
      },
      "execution_count": 37,
      "outputs": []
    },
    {
      "cell_type": "code",
      "source": [
        "mu_phi(phi) # 포트폴리오 기대수익률"
      ],
      "metadata": {
        "colab": {
          "base_uri": "https://localhost:8080/"
        },
        "id": "PUjDZ-QANd7d",
        "outputId": "5861c491-5400-4c60-a8fa-4a8e02ebca10"
      },
      "execution_count": 38,
      "outputs": [
        {
          "output_type": "execute_result",
          "data": {
            "text/plain": [
              "np.float64(0.17500000000000004)"
            ]
          },
          "metadata": {},
          "execution_count": 38
        }
      ]
    },
    {
      "cell_type": "code",
      "source": [
        "def var_phi(phi):\n",
        "    cv = np.cov(rM.T, aweights=P, ddof=0)\n",
        "    return np.dot(phi, np.dot(cv, phi))"
      ],
      "metadata": {
        "id": "a0yOwu3XNg7P"
      },
      "execution_count": 39,
      "outputs": []
    },
    {
      "cell_type": "code",
      "source": [
        "var_phi(phi) # 포트폴리오 분산"
      ],
      "metadata": {
        "colab": {
          "base_uri": "https://localhost:8080/"
        },
        "id": "6f887qveNkJI",
        "outputId": "7db78d94-dfba-4ff2-f062-b2509f44bc79"
      },
      "execution_count": 40,
      "outputs": [
        {
          "output_type": "execute_result",
          "data": {
            "text/plain": [
              "np.float64(0.140625)"
            ]
          },
          "metadata": {},
          "execution_count": 40
        }
      ]
    },
    {
      "cell_type": "code",
      "source": [
        "def sigma_phi(phi):\n",
        "    return var_phi(phi) ** 0.5"
      ],
      "metadata": {
        "id": "eWNZpAsANnP3"
      },
      "execution_count": 41,
      "outputs": []
    },
    {
      "cell_type": "code",
      "source": [
        "sigma_phi(phi)  # 포트폴리오 표준편차(변동성)"
      ],
      "metadata": {
        "colab": {
          "base_uri": "https://localhost:8080/"
        },
        "id": "9C9KUoKXNpxS",
        "outputId": "3fe02f15-8acd-432a-9868-409cb1569651"
      },
      "execution_count": 42,
      "outputs": [
        {
          "output_type": "execute_result",
          "data": {
            "text/plain": [
              "np.float64(0.375)"
            ]
          },
          "metadata": {},
          "execution_count": 42
        }
      ]
    },
    {
      "cell_type": "code",
      "source": [
        "from pylab import plt, mpl\n",
        "plt.style.use('seaborn-v0_8')\n",
        "mpl.rcParams['savefig.dpi'] = 300\n",
        "mpl.rcParams['font.family'] = 'serif'"
      ],
      "metadata": {
        "id": "IE20lOjkNsc0"
      },
      "execution_count": 43,
      "outputs": []
    },
    {
      "cell_type": "code",
      "source": [
        "phi_mcs = np.random.random((2, 200))"
      ],
      "metadata": {
        "id": "oqtBukH0NwFn"
      },
      "execution_count": 44,
      "outputs": []
    },
    {
      "cell_type": "code",
      "source": [
        "phi_mcs = (phi_mcs / phi_mcs.sum(axis=0)).T  # 전체 합이 1인 무작위 가중치 포트폴리오"
      ],
      "metadata": {
        "id": "GbqzY9xlNy-I"
      },
      "execution_count": 45,
      "outputs": []
    },
    {
      "cell_type": "code",
      "source": [
        "mcs = np.array([(sigma_phi(phi), mu_phi(phi))\n",
        "                for phi in phi_mcs])"
      ],
      "metadata": {
        "id": "PjzzwWAIN12P"
      },
      "execution_count": 46,
      "outputs": []
    },
    {
      "cell_type": "code",
      "source": [
        "plt.figure(figsize=(10, 6))\n",
        "plt.plot(mcs[:, 0], mcs[:, 1], 'ro')\n",
        "plt.xlabel('expected volatility')\n",
        "plt.ylabel('expected return');"
      ],
      "metadata": {
        "colab": {
          "base_uri": "https://localhost:8080/",
          "height": 450
        },
        "id": "ksfBf-BgN4lF",
        "outputId": "896b5bc9-9fe6-4d4f-92e3-1aed963d029d"
      },
      "execution_count": 47,
      "outputs": [
        {
          "output_type": "display_data",
          "data": {
            "text/plain": [
              "<Figure size 1000x600 with 1 Axes>"
            ],
            "image/png": "[encoded data removed]"
          },
          "metadata": {}
        }
      ]
    },
    {
      "cell_type": "code",
      "source": [
        "P = np.ones(3) / 3\n",
        "P"
      ],
      "metadata": {
        "colab": {
          "base_uri": "https://localhost:8080/"
        },
        "id": "CHywI5q1N7sr",
        "outputId": "5a93ded7-11d0-46af-dbbb-e3aef9b7a9f5"
      },
      "execution_count": 48,
      "outputs": [
        {
          "output_type": "execute_result",
          "data": {
            "text/plain": [
              "array([0.33333333, 0.33333333, 0.33333333])"
            ]
          },
          "metadata": {},
          "execution_count": 48
        }
      ]
    },
    {
      "cell_type": "code",
      "source": [
        "S0 = 10\n",
        "S1 = np.array((20, 10, 5))\n",
        "T0 = 10\n",
        "T1 = np.array((1, 12, 13))"
      ],
      "metadata": {
        "id": "xr2WnMjQVFW4"
      },
      "execution_count": 49,
      "outputs": []
    },
    {
      "cell_type": "code",
      "source": [
        "M0 = np.array((S0, T0))\n",
        "M0"
      ],
      "metadata": {
        "colab": {
          "base_uri": "https://localhost:8080/"
        },
        "id": "M08u6i4lVIJE",
        "outputId": "86f3a286-527c-4163-e5b0-2e8b14e16798"
      },
      "execution_count": 50,
      "outputs": [
        {
          "output_type": "execute_result",
          "data": {
            "text/plain": [
              "array([10, 10])"
            ]
          },
          "metadata": {},
          "execution_count": 50
        }
      ]
    },
    {
      "cell_type": "code",
      "source": [
        "M1 = np.array((S1, T1)).T\n",
        "M1"
      ],
      "metadata": {
        "colab": {
          "base_uri": "https://localhost:8080/"
        },
        "id": "LQ5IWOkKVL5-",
        "outputId": "69815410-c837-4b5b-b233-95d58809b8e2"
      },
      "execution_count": 51,
      "outputs": [
        {
          "output_type": "execute_result",
          "data": {
            "text/plain": [
              "array([[20,  1],\n",
              "       [10, 12],\n",
              "       [ 5, 13]])"
            ]
          },
          "metadata": {},
          "execution_count": 51
        }
      ]
    },
    {
      "cell_type": "code",
      "source": [
        "rM = M1 / M0 - 1\n",
        "rM"
      ],
      "metadata": {
        "colab": {
          "base_uri": "https://localhost:8080/"
        },
        "id": "RHvdpXHfVOtn",
        "outputId": "5774e6ba-393b-41bd-b8d5-5c9d263b7344"
      },
      "execution_count": 52,
      "outputs": [
        {
          "output_type": "execute_result",
          "data": {
            "text/plain": [
              "array([[ 1. , -0.9],\n",
              "       [ 0. ,  0.2],\n",
              "       [-0.5,  0.3]])"
            ]
          },
          "metadata": {},
          "execution_count": 52
        }
      ]
    },
    {
      "cell_type": "code",
      "source": [
        "mcs = np.array([(sigma_phi(phi), mu_phi(phi))\n",
        "                for phi in phi_mcs])"
      ],
      "metadata": {
        "id": "9Ku08kIdVSXN"
      },
      "execution_count": 53,
      "outputs": []
    },
    {
      "cell_type": "code",
      "source": [
        "plt.figure(figsize=(10, 6))\n",
        "plt.plot(mcs[:, 0], mcs[:, 1], 'ro')\n",
        "plt.xlabel('expected volatility')\n",
        "plt.ylabel('expected return');"
      ],
      "metadata": {
        "colab": {
          "base_uri": "https://localhost:8080/",
          "height": 445
        },
        "id": "QAZOVDqwVVM4",
        "outputId": "9ce9f27a-ec53-4509-c65c-6251f2cfe281"
      },
      "execution_count": 54,
      "outputs": [
        {
          "output_type": "display_data",
          "data": {
            "text/plain": [
              "<Figure size 1000x600 with 1 Axes>"
            ],
            "image/png": "[encoded data removed]"
          },
          "metadata": {}
        }
      ]
    },
    {
      "cell_type": "code",
      "source": [
        "cons = {'type': 'eq', 'fun': lambda phi: np.sum(phi) - 1}\n",
        "bnds = ((0, 1), (0, 1))"
      ],
      "metadata": {
        "id": "l7JG2fE4VX8J"
      },
      "execution_count": 55,
      "outputs": []
    },
    {
      "cell_type": "code",
      "source": [
        "min_var = minimize(sigma_phi, (0.5, 0.5),\n",
        "                   constraints=cons, bounds=bnds)"
      ],
      "metadata": {
        "id": "xY7F3fNFVeKm"
      },
      "execution_count": 56,
      "outputs": []
    },
    {
      "cell_type": "code",
      "source": [
        "min_var"
      ],
      "metadata": {
        "colab": {
          "base_uri": "https://localhost:8080/"
        },
        "id": "4Om136QCVioB",
        "outputId": "e6872c67-4e90-490a-d668-7d4e6c32856c"
      },
      "execution_count": 57,
      "outputs": [
        {
          "output_type": "execute_result",
          "data": {
            "text/plain": [
              "     message: Optimization terminated successfully\n",
              "     success: True\n",
              "      status: 0\n",
              "         fun: 0.07481322946903253\n",
              "           x: [ 4.651e-01  5.349e-01]\n",
              "         nit: 4\n",
              "         jac: [ 7.427e-02  7.529e-02]\n",
              "        nfev: 13\n",
              "        njev: 4\n",
              " multipliers: [ 7.481e-02]"
            ]
          },
          "metadata": {},
          "execution_count": 57
        }
      ]
    },
    {
      "cell_type": "code",
      "source": [
        "def sharpe(phi):\n",
        "    return mu_phi(phi) / sigma_phi(phi)"
      ],
      "metadata": {
        "id": "kEJTdREQVlIc"
      },
      "execution_count": 58,
      "outputs": []
    },
    {
      "cell_type": "code",
      "source": [
        "max_sharpe = minimize(lambda phi: -sharpe(phi), (0.5, 0.5),\n",
        "               constraints=cons, bounds=bnds)"
      ],
      "metadata": {
        "id": "CQZiCDnZVpkq"
      },
      "execution_count": 59,
      "outputs": []
    },
    {
      "cell_type": "code",
      "source": [
        "max_sharpe"
      ],
      "metadata": {
        "colab": {
          "base_uri": "https://localhost:8080/"
        },
        "id": "cA5gGR28VttE",
        "outputId": "f626845e-5abc-4f4d-e766-3cb5ffed0f1d"
      },
      "execution_count": 60,
      "outputs": [
        {
          "output_type": "execute_result",
          "data": {
            "text/plain": [
              "     message: Optimization terminated successfully\n",
              "     success: True\n",
              "      status: 0\n",
              "         fun: -0.27216540990278126\n",
              "           x: [ 6.673e-01  3.327e-01]\n",
              "         nit: 9\n",
              "         jac: [ 1.205e-04 -2.417e-04]\n",
              "        nfev: 29\n",
              "        njev: 9\n",
              " multipliers: [ 1.396e-06]"
            ]
          },
          "metadata": {},
          "execution_count": 60
        }
      ]
    },
    {
      "cell_type": "code",
      "source": [
        "plt.figure(figsize=(10, 6))\n",
        "plt.plot(mcs[:, 0], mcs[:, 1], 'ro', ms=5)\n",
        "plt.plot(sigma_phi(min_var['x']), mu_phi(min_var['x']),\n",
        "         '^', ms=12.5, label='minimum volatility')\n",
        "plt.plot(sigma_phi(max_sharpe['x']), mu_phi(max_sharpe['x']),\n",
        "         'v', ms=12.5, label='maximum Sharpe ratio')\n",
        "plt.xlabel('expected volatility')\n",
        "plt.ylabel('expected return')\n",
        "plt.legend();"
      ],
      "metadata": {
        "colab": {
          "base_uri": "https://localhost:8080/",
          "height": 445
        },
        "id": "2FJ6gGXmVv6Y",
        "outputId": "0fcd4150-bb51-460a-ec7c-144a45eb308d"
      },
      "execution_count": 61,
      "outputs": [
        {
          "output_type": "display_data",
          "data": {
            "text/plain": [
              "<Figure size 1000x600 with 1 Axes>"
            ],
            "image/png": "[encoded data removed]"
          },
          "metadata": {}
        }
      ]
    },
    {
      "cell_type": "code",
      "source": [
        "cons = [{'type': 'eq', 'fun': lambda phi: np.sum(phi) - 1},\n",
        "       {'type': 'eq', 'fun': lambda phi: mu_phi(phi) - target}]\n",
        "bnds = ((0, 1), (0, 1))"
      ],
      "metadata": {
        "id": "NH819GSZVzQj"
      },
      "execution_count": 62,
      "outputs": []
    },
    {
      "cell_type": "code",
      "source": [
        "targets = np.linspace(mu_phi(min_var['x']), 0.16)"
      ],
      "metadata": {
        "id": "ouAwOy1NV54z"
      },
      "execution_count": 63,
      "outputs": []
    },
    {
      "cell_type": "code",
      "source": [
        "frontier = []\n",
        "for target in targets:\n",
        "    phi_eff = minimize(sigma_phi, (0.5, 0.5),\n",
        "                       constraints=cons, bounds=bnds)['x']\n",
        "    frontier.append((sigma_phi(phi_eff), mu_phi(phi_eff)))\n",
        "frontier = np.array(frontier)"
      ],
      "metadata": {
        "id": "vNDs2TnsV9Oa"
      },
      "execution_count": 64,
      "outputs": []
    },
    {
      "cell_type": "code",
      "source": [
        "plt.figure(figsize=(10, 6))\n",
        "plt.plot(frontier[:, 0], frontier[:, 1], 'mo', ms=5,\n",
        "         label='efficient frontier')\n",
        "plt.plot(sigma_phi(min_var['x']), mu_phi(min_var['x']),\n",
        "         '^', ms=12.5, label='minimum volatility')\n",
        "plt.plot(sigma_phi(max_sharpe['x']), mu_phi(max_sharpe['x']),\n",
        "         'v', ms=12.5, label='maximum Sharpe ratio')\n",
        "plt.xlabel('expected volatility')\n",
        "plt.ylabel('expected return')\n",
        "plt.legend();"
      ],
      "metadata": {
        "colab": {
          "base_uri": "https://localhost:8080/",
          "height": 450
        },
        "id": "MeaN6Z63V_v6",
        "outputId": "321c23eb-f244-4fc5-ea56-e128ef7bef76"
      },
      "execution_count": 65,
      "outputs": [
        {
          "output_type": "display_data",
          "data": {
            "text/plain": [
              "<Figure size 1000x600 with 1 Axes>"
            ],
            "image/png": "[encoded data removed]"
          },
          "metadata": {}
        }
      ]
    },
    {
      "cell_type": "markdown",
      "source": [
        "### Capital Asset Pricing Model: CAPM"
      ],
      "metadata": {
        "id": "AR-0wRC6WG_r"
      }
    },
    {
      "cell_type": "code",
      "source": [
        "plt.figure(figsize=(10, 6))\n",
        "plt.plot((0, 0.3), (0.01, 0.22), label='capital market line')\n",
        "plt.plot(0, 0.01, 'o', ms=9, label='risk-less asset')\n",
        "plt.plot(0.2, 0.15, '^', ms=9, label='market portfolio')\n",
        "plt.annotate('$(0, \\\\bar{r})$', (0, 0.01), (-0.01, 0.02))\n",
        "plt.annotate('$(\\sigma_M, \\mu_M)$', (0.2, 0.15), (0.19, 0.16))\n",
        "plt.xlabel('expected volatility')\n",
        "plt.ylabel('expected return')\n",
        "plt.legend();"
      ],
      "metadata": {
        "colab": {
          "base_uri": "https://localhost:8080/",
          "height": 451
        },
        "id": "-Gn4V2CuWDCL",
        "outputId": "fdb58fdb-1473-4b4a-ed20-79c73c562737"
      },
      "execution_count": 66,
      "outputs": [
        {
          "output_type": "display_data",
          "data": {
            "text/plain": [
              "<Figure size 1000x600 with 1 Axes>"
            ],
            "image/png": "[encoded data removed]"
          },
          "metadata": {}
        }
      ]
    },
    {
      "cell_type": "code",
      "source": [
        "phi_M = np.array((0.8, 0.2))\n",
        "mu_M = mu_phi(phi_M)\n",
        "mu_M"
      ],
      "metadata": {
        "colab": {
          "base_uri": "https://localhost:8080/"
        },
        "id": "1G_5a7kYWRwk",
        "outputId": "868ab571-1eb5-48e7-8313-6d1f35d4092f"
      },
      "execution_count": 67,
      "outputs": [
        {
          "output_type": "execute_result",
          "data": {
            "text/plain": [
              "np.float64(0.10666666666666666)"
            ]
          },
          "metadata": {},
          "execution_count": 67
        }
      ]
    },
    {
      "cell_type": "code",
      "source": [
        "sigma_M = sigma_phi(phi_M)\n",
        "sigma_M"
      ],
      "metadata": {
        "colab": {
          "base_uri": "https://localhost:8080/"
        },
        "id": "eSnVXJkpWbDi",
        "outputId": "6141555d-2ec9-4617-c0f9-294d358b59e0"
      },
      "execution_count": 68,
      "outputs": [
        {
          "output_type": "execute_result",
          "data": {
            "text/plain": [
              "np.float64(0.39474323581566567)"
            ]
          },
          "metadata": {},
          "execution_count": 68
        }
      ]
    },
    {
      "cell_type": "code",
      "source": [
        "r = 0.0025"
      ],
      "metadata": {
        "id": "EZr_kB8zWdnM"
      },
      "execution_count": 69,
      "outputs": []
    },
    {
      "cell_type": "code",
      "source": [
        "plt.figure(figsize=(10, 6))\n",
        "plt.plot(frontier[:, 0], frontier[:, 1], 'm.', ms=5,\n",
        "         label='efficient frontier')\n",
        "plt.plot(0, r, 'o', ms=9, label='risk-less asset')\n",
        "plt.plot(sigma_M, mu_M, '^', ms=9, label='market portfolio')\n",
        "plt.plot((0, 0.6), (r, r + ((mu_M - r) / sigma_M) * 0.6),\n",
        "         'r', label='capital market line', lw=2.0)\n",
        "plt.annotate('$(0, \\\\bar{r})$', (0, r), (-0.015, r + 0.01))\n",
        "plt.annotate('$(\\sigma_M, \\mu_M)$', (sigma_M, mu_M),\n",
        "             (sigma_M - 0.025, mu_M + 0.01))\n",
        "plt.xlabel('expected volatility')\n",
        "plt.ylabel('expected return')\n",
        "plt.legend();"
      ],
      "metadata": {
        "colab": {
          "base_uri": "https://localhost:8080/",
          "height": 450
        },
        "id": "44rKktEAWgmI",
        "outputId": "adf52ec6-561c-40cb-dbb4-dc39971ef24e"
      },
      "execution_count": 70,
      "outputs": [
        {
          "output_type": "display_data",
          "data": {
            "text/plain": [
              "<Figure size 1000x600 with 1 Axes>"
            ],
            "image/png": "[encoded data removed]"
          },
          "metadata": {}
        }
      ]
    },
    {
      "cell_type": "code",
      "source": [
        "def U(p):\n",
        "    mu, sigma = p\n",
        "    return mu - 1 / 2 * (sigma ** 2 + mu ** 2)"
      ],
      "metadata": {
        "id": "uaBX9mmMWjI8"
      },
      "execution_count": 71,
      "outputs": []
    },
    {
      "cell_type": "code",
      "source": [
        "cons = {'type': 'eq',\n",
        "        'fun': lambda p: p[0] - (r + (mu_M - r) / sigma_M * p[1])}"
      ],
      "metadata": {
        "id": "Gve7_C3BWqHd"
      },
      "execution_count": 72,
      "outputs": []
    },
    {
      "cell_type": "code",
      "source": [
        "opt = minimize(lambda p: -U(p), (0.1, 0.3), constraints=cons)\n",
        "opt"
      ],
      "metadata": {
        "colab": {
          "base_uri": "https://localhost:8080/"
        },
        "id": "efxg6wjQWspg",
        "outputId": "a8adbae0-5de5-437b-9f0b-e9f63a579811"
      },
      "execution_count": 73,
      "outputs": [
        {
          "output_type": "execute_result",
          "data": {
            "text/plain": [
              "     message: Optimization terminated successfully\n",
              "     success: True\n",
              "      status: 0\n",
              "         fun: -0.0348851868267394\n",
              "           x: [ 6.744e-02  2.461e-01]\n",
              "         nit: 2\n",
              "         jac: [-9.326e-01  2.461e-01]\n",
              "        nfev: 6\n",
              "        njev: 2\n",
              " multipliers: [-9.326e-01]"
            ]
          },
          "metadata": {},
          "execution_count": 73
        }
      ]
    },
    {
      "cell_type": "code",
      "source": [
        "from sympy import *\n",
        "init_printing(use_unicode=False, use_latex=False)"
      ],
      "metadata": {
        "id": "F517-rjuWvBZ"
      },
      "execution_count": 74,
      "outputs": []
    },
    {
      "cell_type": "code",
      "source": [
        "mu, sigma, b, v = symbols('mu sigma b v')"
      ],
      "metadata": {
        "id": "Dc_zU544WyQ_"
      },
      "execution_count": 75,
      "outputs": []
    },
    {
      "cell_type": "code",
      "source": [
        "sol = solve('mu - b / 2 * (sigma ** 2 + mu ** 2) - v', mu)\n",
        "sol"
      ],
      "metadata": {
        "colab": {
          "base_uri": "https://localhost:8080/"
        },
        "id": "5b6z-riFW2YU",
        "outputId": "9d8305a3-484a-473b-e2e2-a0fa8f9d06a0"
      },
      "execution_count": 76,
      "outputs": [
        {
          "output_type": "execute_result",
          "data": {
            "text/plain": [
              "        _________________________     _________________________     \n",
              "       /    2      2                 /    2      2                  \n",
              " 1 - \\/  - b *sigma  - 2*b*v + 1   \\/  - b *sigma  - 2*b*v + 1  + 1 \n",
              "[--------------------------------, --------------------------------]\n",
              "                b                                 b                 "
            ]
          },
          "metadata": {},
          "execution_count": 76
        }
      ]
    },
    {
      "cell_type": "code",
      "source": [
        "u1 = sol[0].subs({'b': 1, 'v': 0.1})\n",
        "u1"
      ],
      "metadata": {
        "colab": {
          "base_uri": "https://localhost:8080/"
        },
        "id": "k-Wg8ohJW4o3",
        "outputId": "5a07a3fe-28c7-4929-edcf-86da6540a0ec"
      },
      "execution_count": 77,
      "outputs": [
        {
          "output_type": "execute_result",
          "data": {
            "text/plain": [
              "       ______________\n",
              "      /            2 \n",
              "1 - \\/  0.8 - sigma  "
            ]
          },
          "metadata": {},
          "execution_count": 77
        }
      ]
    },
    {
      "cell_type": "code",
      "source": [
        "u2 = sol[0].subs({'b': 1, 'v': 0.125})\n",
        "u2"
      ],
      "metadata": {
        "colab": {
          "base_uri": "https://localhost:8080/"
        },
        "id": "HvuJfH_wW8Ti",
        "outputId": "ab82fae5-1363-4e45-d750-ffdaf3a7fc62"
      },
      "execution_count": 78,
      "outputs": [
        {
          "output_type": "execute_result",
          "data": {
            "text/plain": [
              "       _______________\n",
              "      /             2 \n",
              "1 - \\/  0.75 - sigma  "
            ]
          },
          "metadata": {},
          "execution_count": 78
        }
      ]
    },
    {
      "cell_type": "code",
      "source": [
        "f1 = lambdify(sigma, u1)\n",
        "f2 = lambdify(sigma, u2)"
      ],
      "metadata": {
        "id": "4POC4MTqW-ce"
      },
      "execution_count": 79,
      "outputs": []
    },
    {
      "cell_type": "code",
      "source": [
        "sigma_ = np.linspace(0.0, 0.5)\n",
        "u1_ = f1(sigma_)\n",
        "u2_ = f2(sigma_)"
      ],
      "metadata": {
        "id": "I_1zMyS4XBPA"
      },
      "execution_count": 80,
      "outputs": []
    },
    {
      "cell_type": "code",
      "source": [
        "plt.figure(figsize=(10, 6))\n",
        "plt.plot(sigma_, u1_, label='$v=0.1$')\n",
        "plt.plot(sigma_, u2_, '--', label='$v=0.125$')\n",
        "plt.xlabel('expected volatility')\n",
        "plt.ylabel('expected return')\n",
        "plt.legend();"
      ],
      "metadata": {
        "colab": {
          "base_uri": "https://localhost:8080/",
          "height": 446
        },
        "id": "aq4WpSrxXDdC",
        "outputId": "48489d05-21f7-43d9-be35-18bf6a3e4ec7"
      },
      "execution_count": 81,
      "outputs": [
        {
          "output_type": "display_data",
          "data": {
            "text/plain": [
              "<Figure size 1000x600 with 1 Axes>"
            ],
            "image/png": "[encoded data removed]"
          },
          "metadata": {}
        }
      ]
    },
    {
      "cell_type": "code",
      "source": [
        "u = sol[0].subs({'b': 1, 'v': -opt['fun']})\n",
        "u"
      ],
      "metadata": {
        "colab": {
          "base_uri": "https://localhost:8080/"
        },
        "id": "TEWXJA99XF_Z",
        "outputId": "900a3c10-e55c-49aa-b22c-4c5fa28c4baf"
      },
      "execution_count": 82,
      "outputs": [
        {
          "output_type": "execute_result",
          "data": {
            "text/plain": [
              "       ____________________________\n",
              "      /                          2 \n",
              "1 - \\/  0.930229626346521 - sigma  "
            ]
          },
          "metadata": {},
          "execution_count": 82
        }
      ]
    },
    {
      "cell_type": "code",
      "source": [
        "f = lambdify(sigma, u)"
      ],
      "metadata": {
        "id": "lNlNh-PlXLDJ"
      },
      "execution_count": 83,
      "outputs": []
    },
    {
      "cell_type": "code",
      "source": [
        "u_ = f(sigma_)"
      ],
      "metadata": {
        "id": "PMIE5XArXNYk"
      },
      "execution_count": 84,
      "outputs": []
    },
    {
      "cell_type": "code",
      "source": [
        "plt.figure(figsize=(10, 6))\n",
        "plt.plot(0, r, 'o', ms=9, label='risk-less asset')\n",
        "plt.plot(sigma_M, mu_M, '^', ms=9, label='market portfolio')\n",
        "plt.plot(opt['x'][1], opt['x'][0], 'v', ms=9, label='optimal portfolio')\n",
        "plt.plot((0, 0.5), (r, r + (mu_M - r) / sigma_M * 0.5),\n",
        "         label='capital market line', lw=2.0)\n",
        "plt.plot(sigma_, u_, '--', label='$v={}$'.format(-round(opt['fun'], 3)))\n",
        "plt.xlabel('expected volatility')\n",
        "plt.ylabel('expected return')\n",
        "plt.legend();"
      ],
      "metadata": {
        "colab": {
          "base_uri": "https://localhost:8080/",
          "height": 446
        },
        "id": "y7BIWOJuXPzU",
        "outputId": "a445ed59-c6cf-4d85-e27a-b215c2ef3380"
      },
      "execution_count": 86,
      "outputs": [
        {
          "output_type": "display_data",
          "data": {
            "text/plain": [
              "<Figure size 1000x600 with 1 Axes>"
            ],
            "image/png": "[encoded data removed]"
          },
          "metadata": {}
        }
      ]
    },
    {
      "cell_type": "markdown",
      "source": [
        "### Arbitrage Pricing Theory"
      ],
      "metadata": {
        "id": "fNFN4wnEXdX3"
      }
    },
    {
      "cell_type": "code",
      "source": [
        "M1"
      ],
      "metadata": {
        "colab": {
          "base_uri": "https://localhost:8080/"
        },
        "id": "moEaJaSEXSk1",
        "outputId": "eb78a185-9d5f-4fad-877b-3ac74eaccf60"
      },
      "execution_count": 87,
      "outputs": [
        {
          "output_type": "execute_result",
          "data": {
            "text/plain": [
              "array([[20,  1],\n",
              "       [10, 12],\n",
              "       [ 5, 13]])"
            ]
          },
          "metadata": {},
          "execution_count": 87
        }
      ]
    },
    {
      "cell_type": "code",
      "source": [
        "M0"
      ],
      "metadata": {
        "colab": {
          "base_uri": "https://localhost:8080/"
        },
        "id": "X8fGYZdnXlr5",
        "outputId": "dd1439d2-7953-4d08-c025-75a80b483cf0"
      },
      "execution_count": 88,
      "outputs": [
        {
          "output_type": "execute_result",
          "data": {
            "text/plain": [
              "array([10, 10])"
            ]
          },
          "metadata": {},
          "execution_count": 88
        }
      ]
    },
    {
      "cell_type": "code",
      "source": [
        "V1 = np.array((12, 15, 7)) # 세 번째 자산의 payoff"
      ],
      "metadata": {
        "id": "WE3K6rakXoNA"
      },
      "execution_count": 89,
      "outputs": []
    },
    {
      "cell_type": "code",
      "source": [
        "reg = np.linalg.lstsq(M1, V1, rcond=-1)[0]\n",
        "reg  # 최적 회귀 인수값, 요인 적재량"
      ],
      "metadata": {
        "colab": {
          "base_uri": "https://localhost:8080/"
        },
        "id": "NtEqkKyPXrFh",
        "outputId": "7bbb028f-28c0-49d6-ce33-9f5f6c21a767"
      },
      "execution_count": 90,
      "outputs": [
        {
          "output_type": "execute_result",
          "data": {
            "text/plain": [
              "array([0.6141665 , 0.50030531])"
            ]
          },
          "metadata": {},
          "execution_count": 90
        }
      ]
    },
    {
      "cell_type": "code",
      "source": [
        "np.dot(M1, reg)"
      ],
      "metadata": {
        "colab": {
          "base_uri": "https://localhost:8080/"
        },
        "id": "0iQccOQxXtxt",
        "outputId": "4c9d9b21-faeb-469d-a2da-043475f80fb9"
      },
      "execution_count": 91,
      "outputs": [
        {
          "output_type": "execute_result",
          "data": {
            "text/plain": [
              "array([12.78363525, 12.14532872,  9.57480155])"
            ]
          },
          "metadata": {},
          "execution_count": 91
        }
      ]
    },
    {
      "cell_type": "code",
      "source": [
        "np.dot(M1, reg) - V1"
      ],
      "metadata": {
        "colab": {
          "base_uri": "https://localhost:8080/"
        },
        "id": "aIiL9HC0Xwoi",
        "outputId": "8bdb6fca-94d0-49d2-8249-7c586b8c8dbd"
      },
      "execution_count": 92,
      "outputs": [
        {
          "output_type": "execute_result",
          "data": {
            "text/plain": [
              "array([ 0.78363525, -2.85467128,  2.57480155])"
            ]
          },
          "metadata": {},
          "execution_count": 92
        }
      ]
    },
    {
      "cell_type": "code",
      "source": [
        "V0 = np.dot(M0, reg)\n",
        "V0"
      ],
      "metadata": {
        "colab": {
          "base_uri": "https://localhost:8080/"
        },
        "id": "g0Azv_zhXzYZ",
        "outputId": "4f057e9d-b202-4fde-a186-28148788c94e"
      },
      "execution_count": 93,
      "outputs": [
        {
          "output_type": "execute_result",
          "data": {
            "text/plain": [
              "np.float64(11.144718094850402)"
            ]
          },
          "metadata": {},
          "execution_count": 93
        }
      ]
    },
    {
      "cell_type": "code",
      "source": [
        "U0 = 10\n",
        "U1 = np.array((12, 5, 11))  # 새로운 리스크 요인 추가"
      ],
      "metadata": {
        "id": "jsq2WLhlX2aa"
      },
      "execution_count": 94,
      "outputs": []
    },
    {
      "cell_type": "code",
      "source": [
        "M0_ = np.array((S0, T0, U0))\n",
        "M1_ = np.concatenate((M1.T, np.array([U1,]))).T\n",
        "M1_  # 증가한 시장 payoff 행렬"
      ],
      "metadata": {
        "colab": {
          "base_uri": "https://localhost:8080/"
        },
        "id": "wCVBSY4vX6QQ",
        "outputId": "1d421348-10cf-4a62-aced-f50b7c8a2dfd"
      },
      "execution_count": 95,
      "outputs": [
        {
          "output_type": "execute_result",
          "data": {
            "text/plain": [
              "array([[20,  1, 12],\n",
              "       [10, 12,  5],\n",
              "       [ 5, 13, 11]])"
            ]
          },
          "metadata": {},
          "execution_count": 95
        }
      ]
    },
    {
      "cell_type": "code",
      "source": [
        "np.linalg.matrix_rank(M1_)"
      ],
      "metadata": {
        "colab": {
          "base_uri": "https://localhost:8080/"
        },
        "id": "NTy5L5jbX8_5",
        "outputId": "ddb3d0c9-3b17-4196-80d4-09ad54baaf4c"
      },
      "execution_count": 96,
      "outputs": [
        {
          "output_type": "execute_result",
          "data": {
            "text/plain": [
              "np.int64(3)"
            ]
          },
          "metadata": {},
          "execution_count": 96
        }
      ]
    },
    {
      "cell_type": "code",
      "source": [
        "reg = np.linalg.lstsq(M1_, V1, rcond=-1)[0]\n",
        "reg"
      ],
      "metadata": {
        "colab": {
          "base_uri": "https://localhost:8080/"
        },
        "id": "USoLBo0xX_m4",
        "outputId": "aa99d331-61db-48a3-8543-08baa725bca3"
      },
      "execution_count": 97,
      "outputs": [
        {
          "output_type": "execute_result",
          "data": {
            "text/plain": [
              "array([ 0.9575179 ,  0.72553699, -0.65632458])"
            ]
          },
          "metadata": {},
          "execution_count": 97
        }
      ]
    },
    {
      "cell_type": "code",
      "source": [
        "np.allclose(np.dot(M1_, reg), V1) # 복제 잔차는 0"
      ],
      "metadata": {
        "colab": {
          "base_uri": "https://localhost:8080/"
        },
        "id": "wIY2RQAjYB82",
        "outputId": "fac7d464-a635-4e59-9d99-5ce8e98ec434"
      },
      "execution_count": 98,
      "outputs": [
        {
          "output_type": "execute_result",
          "data": {
            "text/plain": [
              "True"
            ]
          },
          "metadata": {},
          "execution_count": 98
        }
      ]
    },
    {
      "cell_type": "code",
      "source": [
        "V0_ = np.dot(M0_, reg)\n",
        "V0_"
      ],
      "metadata": {
        "colab": {
          "base_uri": "https://localhost:8080/"
        },
        "id": "DVqSS5FGYFg9",
        "outputId": "838cc182-55fb-4791-d688-a2ffdd57f7a3"
      },
      "execution_count": 99,
      "outputs": [
        {
          "output_type": "execute_result",
          "data": {
            "text/plain": [
              "np.float64(10.267303102625307)"
            ]
          },
          "metadata": {},
          "execution_count": 99
        }
      ]
    },
    {
      "cell_type": "code",
      "source": [],
      "metadata": {
        "id": "WEeXv9QbYIA6"
      },
      "execution_count": null,
      "outputs": []
    }
  ]
}