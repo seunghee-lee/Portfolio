{
  "cells": [
    {
      "cell_type": "markdown",
      "metadata": {
        "id": "view-in-github",
        "colab_type": "text"
      },
      "source": [
        "<a href=\"https://colab.research.google.com/github/seunghee-lee/Portfolio/blob/main/Numerical_Computing_with_NumPy.ipynb\" target=\"_parent\"><img src=\"https://colab.research.google.com/assets/colab-badge.svg\" alt=\"Open In Colab\"/></a>"
      ]
    },
    {
      "cell_type": "markdown",
      "metadata": {
        "id": "47qVHP75xvYi"
      },
      "source": [
        "# Numerical Computing with NumPy"
      ]
    },
    {
      "cell_type": "markdown",
      "metadata": {
        "id": "mQNRB9zjxvYk"
      },
      "source": [
        "## Arrays with Python Lists"
      ]
    },
    {
      "cell_type": "code",
      "execution_count": 1,
      "metadata": {
        "uuid": "be5428db-f5f0-48d1-9cb3-46ab122778e7",
        "id": "3toICr_dxvYl"
      },
      "outputs": [],
      "source": [
        "v = [0.5, 0.75, 1.0, 1.5, 2.0]"
      ]
    },
    {
      "cell_type": "code",
      "execution_count": 2,
      "metadata": {
        "uuid": "01678cdc-dfe0-481e-b9bc-b735b15c76c0",
        "colab": {
          "base_uri": "https://localhost:8080/"
        },
        "id": "1aN87AdwxvYo",
        "outputId": "559d3ce3-2e25-4192-984a-ca8afa3325a8"
      },
      "outputs": [
        {
          "output_type": "execute_result",
          "data": {
            "text/plain": [
              "[[0.5, 0.75, 1.0, 1.5, 2.0],\n",
              " [0.5, 0.75, 1.0, 1.5, 2.0],\n",
              " [0.5, 0.75, 1.0, 1.5, 2.0]]"
            ]
          },
          "metadata": {},
          "execution_count": 2
        }
      ],
      "source": [
        "m = [v, v, v]\n",
        "m"
      ]
    },
    {
      "cell_type": "code",
      "execution_count": 3,
      "metadata": {
        "uuid": "e2d1473a-4970-4085-9e8a-de65ed22f986",
        "colab": {
          "base_uri": "https://localhost:8080/"
        },
        "id": "sTIdWaUxxvYs",
        "outputId": "b36e6a21-3717-4788-b12e-89ae0e09a985"
      },
      "outputs": [
        {
          "output_type": "execute_result",
          "data": {
            "text/plain": [
              "[0.5, 0.75, 1.0, 1.5, 2.0]"
            ]
          },
          "metadata": {},
          "execution_count": 3
        }
      ],
      "source": [
        "m[1]"
      ]
    },
    {
      "cell_type": "code",
      "execution_count": 4,
      "metadata": {
        "uuid": "e33ea433-6716-4d17-9ed3-04a68af6b489",
        "colab": {
          "base_uri": "https://localhost:8080/"
        },
        "id": "SKH4KRA-xvYu",
        "outputId": "40b54a9e-c7c7-4c8d-ce79-fad3e447236d"
      },
      "outputs": [
        {
          "output_type": "execute_result",
          "data": {
            "text/plain": [
              "0.5"
            ]
          },
          "metadata": {},
          "execution_count": 4
        }
      ],
      "source": [
        "m[1][0]"
      ]
    },
    {
      "cell_type": "code",
      "execution_count": 5,
      "metadata": {
        "uuid": "d905bfcc-e325-468e-829e-bb5c59def934",
        "colab": {
          "base_uri": "https://localhost:8080/"
        },
        "id": "xh1gcTDixvYv",
        "outputId": "b58d767d-1c8d-4daf-b062-918577483b4f"
      },
      "outputs": [
        {
          "output_type": "execute_result",
          "data": {
            "text/plain": [
              "[[[0.5, 1.5], [1, 2]], [[0.5, 1.5], [1, 2]]]"
            ]
          },
          "metadata": {},
          "execution_count": 5
        }
      ],
      "source": [
        "v1 = [0.5, 1.5]\n",
        "v2 = [1, 2]\n",
        "m = [v1, v2]\n",
        "c = [m, m]\n",
        "c"
      ]
    },
    {
      "cell_type": "code",
      "execution_count": 6,
      "metadata": {
        "scrolled": true,
        "uuid": "be03ed03-1e4a-428e-ac94-e451ceeaa745",
        "colab": {
          "base_uri": "https://localhost:8080/"
        },
        "id": "5GHWoXqrxvYx",
        "outputId": "142adff5-e07a-45ff-ef42-358c8f4fce05"
      },
      "outputs": [
        {
          "output_type": "execute_result",
          "data": {
            "text/plain": [
              "1"
            ]
          },
          "metadata": {},
          "execution_count": 6
        }
      ],
      "source": [
        "c[1][1][0]"
      ]
    },
    {
      "cell_type": "code",
      "execution_count": 7,
      "metadata": {
        "uuid": "015e5dd4-fda4-4572-9a23-06ff178ff2be",
        "colab": {
          "base_uri": "https://localhost:8080/"
        },
        "id": "gpro2O-5xvYz",
        "outputId": "1a441fd2-7c66-45c8-de4e-d175afb99902"
      },
      "outputs": [
        {
          "output_type": "execute_result",
          "data": {
            "text/plain": [
              "[[0.5, 0.75, 1.0, 1.5, 2.0],\n",
              " [0.5, 0.75, 1.0, 1.5, 2.0],\n",
              " [0.5, 0.75, 1.0, 1.5, 2.0]]"
            ]
          },
          "metadata": {},
          "execution_count": 7
        }
      ],
      "source": [
        "v = [0.5, 0.75, 1.0, 1.5, 2.0]\n",
        "m = [v, v, v]\n",
        "m"
      ]
    },
    {
      "cell_type": "code",
      "execution_count": 8,
      "metadata": {
        "uuid": "fd8ebed9-f11c-455a-a660-f4fe8d12d8f4",
        "colab": {
          "base_uri": "https://localhost:8080/"
        },
        "id": "wX7HinbOxvY0",
        "outputId": "6870ef8f-be38-46a9-ed3f-90becfbb0b35"
      },
      "outputs": [
        {
          "output_type": "execute_result",
          "data": {
            "text/plain": [
              "[['Python', 0.75, 1.0, 1.5, 2.0],\n",
              " ['Python', 0.75, 1.0, 1.5, 2.0],\n",
              " ['Python', 0.75, 1.0, 1.5, 2.0]]"
            ]
          },
          "metadata": {},
          "execution_count": 8
        }
      ],
      "source": [
        "v[0] = 'Python'\n",
        "m"
      ]
    },
    {
      "cell_type": "code",
      "execution_count": 9,
      "metadata": {
        "uuid": "eacab892-e5a6-49be-9ef2-ef2972b313c3",
        "colab": {
          "base_uri": "https://localhost:8080/"
        },
        "id": "OMzycUumxvY2",
        "outputId": "82369f12-2db4-4af9-a023-7fc91d8dee1f"
      },
      "outputs": [
        {
          "output_type": "execute_result",
          "data": {
            "text/plain": [
              "[[0.5, 0.75, 1.0, 1.5, 2.0],\n",
              " [0.5, 0.75, 1.0, 1.5, 2.0],\n",
              " [0.5, 0.75, 1.0, 1.5, 2.0]]"
            ]
          },
          "metadata": {},
          "execution_count": 9
        }
      ],
      "source": [
        "from copy import deepcopy\n",
        "v = [0.5, 0.75, 1.0, 1.5, 2.0]\n",
        "m = 3 * [deepcopy(v), ]\n",
        "m"
      ]
    },
    {
      "cell_type": "code",
      "execution_count": 10,
      "metadata": {
        "uuid": "10ed3e78-fdc4-4adf-8f80-75eac48629a1",
        "colab": {
          "base_uri": "https://localhost:8080/"
        },
        "id": "pPOZkIeZxvY4",
        "outputId": "a7ccb045-f7cc-4231-c295-c8fdf88678d2"
      },
      "outputs": [
        {
          "output_type": "execute_result",
          "data": {
            "text/plain": [
              "[[0.5, 0.75, 1.0, 1.5, 2.0],\n",
              " [0.5, 0.75, 1.0, 1.5, 2.0],\n",
              " [0.5, 0.75, 1.0, 1.5, 2.0]]"
            ]
          },
          "metadata": {},
          "execution_count": 10
        }
      ],
      "source": [
        "v[0] = 'Python'\n",
        "m"
      ]
    },
    {
      "cell_type": "markdown",
      "metadata": {
        "id": "ME9Oh4yJxvZQ"
      },
      "source": [
        "## Regular NumPy Arrays"
      ]
    },
    {
      "cell_type": "markdown",
      "metadata": {
        "id": "rYXuZdaLxvZS"
      },
      "source": [
        "### The Basics"
      ]
    },
    {
      "cell_type": "code",
      "execution_count": 17,
      "metadata": {
        "uuid": "434dc849-a224-49f3-af1c-466dc48c9258",
        "id": "vOHt4lVfxvZT"
      },
      "outputs": [],
      "source": [
        "import numpy as np"
      ]
    },
    {
      "cell_type": "code",
      "execution_count": 18,
      "metadata": {
        "colab": {
          "base_uri": "https://localhost:8080/"
        },
        "id": "sm6bnakJxvZU",
        "outputId": "f1a138a1-4a84-4ecf-cec4-c76fbe7a5fdf"
      },
      "outputs": [
        {
          "output_type": "execute_result",
          "data": {
            "text/plain": [
              "array([0. , 0.5, 1. , 1.5, 2. ])"
            ]
          },
          "metadata": {},
          "execution_count": 18
        }
      ],
      "source": [
        "a = np.array([0, 0.5, 1.0, 1.5, 2.0])\n",
        "a"
      ]
    },
    {
      "cell_type": "code",
      "execution_count": 19,
      "metadata": {
        "uuid": "a58df3ba-f18e-459d-ac4d-6be84714a2a3",
        "colab": {
          "base_uri": "https://localhost:8080/"
        },
        "id": "xZ5QOQb4xvZV",
        "outputId": "6656b369-8626-466a-c376-c697521d5e69"
      },
      "outputs": [
        {
          "output_type": "execute_result",
          "data": {
            "text/plain": [
              "numpy.ndarray"
            ]
          },
          "metadata": {},
          "execution_count": 19
        }
      ],
      "source": [
        "type(a)"
      ]
    },
    {
      "cell_type": "code",
      "execution_count": 20,
      "metadata": {
        "colab": {
          "base_uri": "https://localhost:8080/"
        },
        "id": "VoYwKchfxvZX",
        "outputId": "e6f87ee4-843a-4eb7-cca9-43311be62cff"
      },
      "outputs": [
        {
          "output_type": "execute_result",
          "data": {
            "text/plain": [
              "array(['a', 'b', 'c'], dtype='<U1')"
            ]
          },
          "metadata": {},
          "execution_count": 20
        }
      ],
      "source": [
        "a = np.array(['a', 'b', 'c'])\n",
        "a"
      ]
    },
    {
      "cell_type": "code",
      "execution_count": 21,
      "metadata": {
        "uuid": "a58df3ba-f18e-459d-ac4d-6be84714a2a3",
        "colab": {
          "base_uri": "https://localhost:8080/"
        },
        "id": "6EW8SXugxvZY",
        "outputId": "c5c8ccdb-b472-4d15-96ed-125ac539a339"
      },
      "outputs": [
        {
          "output_type": "execute_result",
          "data": {
            "text/plain": [
              "array([ 2,  4,  6,  8, 10, 12, 14, 16, 18])"
            ]
          },
          "metadata": {},
          "execution_count": 21
        }
      ],
      "source": [
        "a = np.arange(2, 20, 2)\n",
        "a"
      ]
    },
    {
      "cell_type": "code",
      "execution_count": 22,
      "metadata": {
        "uuid": "a58df3ba-f18e-459d-ac4d-6be84714a2a3",
        "colab": {
          "base_uri": "https://localhost:8080/"
        },
        "id": "dSxM7akXxvaB",
        "outputId": "22ba2527-6006-40d5-8108-4d6f6c803b88"
      },
      "outputs": [
        {
          "output_type": "execute_result",
          "data": {
            "text/plain": [
              "array([0., 1., 2., 3., 4., 5., 6., 7.])"
            ]
          },
          "metadata": {},
          "execution_count": 22
        }
      ],
      "source": [
        "a = np.arange(8, dtype=np.float64)\n",
        "a"
      ]
    },
    {
      "cell_type": "code",
      "execution_count": 23,
      "metadata": {
        "uuid": "c6c73402-ed3b-4ea1-b62e-06dca996e713",
        "colab": {
          "base_uri": "https://localhost:8080/"
        },
        "id": "xRQFoENWxvaC",
        "outputId": "0df1bd7f-c578-4fe7-9b38-787cd5c56621"
      },
      "outputs": [
        {
          "output_type": "execute_result",
          "data": {
            "text/plain": [
              "array([5., 6., 7.])"
            ]
          },
          "metadata": {},
          "execution_count": 23
        }
      ],
      "source": [
        "a[5:]"
      ]
    },
    {
      "cell_type": "code",
      "execution_count": 24,
      "metadata": {
        "colab": {
          "base_uri": "https://localhost:8080/"
        },
        "id": "3ukab5K8xvaE",
        "outputId": "39a72f1a-60a2-4196-adcb-b8909d5b91ac"
      },
      "outputs": [
        {
          "output_type": "execute_result",
          "data": {
            "text/plain": [
              "array([0., 1.])"
            ]
          },
          "metadata": {},
          "execution_count": 24
        }
      ],
      "source": [
        "a[:2]"
      ]
    },
    {
      "cell_type": "code",
      "execution_count": 26,
      "metadata": {
        "uuid": "f167bdb8-6673-4520-bd34-e2428ede6ad7",
        "id": "9vCcSwQbxvaF",
        "outputId": "6e75f77a-4c51-4061-cc44-a12e31040fb2",
        "colab": {
          "base_uri": "https://localhost:8080/"
        }
      },
      "outputs": [
        {
          "output_type": "execute_result",
          "data": {
            "text/plain": [
              "np.float64(28.0)"
            ]
          },
          "metadata": {},
          "execution_count": 26
        }
      ],
      "source": [
        "a.sum()"
      ]
    },
    {
      "cell_type": "code",
      "execution_count": 27,
      "metadata": {
        "uuid": "0eafbb03-0cc4-4dd7-a177-9d8f2f8a32be",
        "colab": {
          "base_uri": "https://localhost:8080/"
        },
        "id": "-9_izEt4xvaH",
        "outputId": "6eaf7858-88e0-4a7e-8c39-a1f4bcd5b0a0"
      },
      "outputs": [
        {
          "output_type": "execute_result",
          "data": {
            "text/plain": [
              "np.float64(2.29128784747792)"
            ]
          },
          "metadata": {},
          "execution_count": 27
        }
      ],
      "source": [
        "a.std()"
      ]
    },
    {
      "cell_type": "code",
      "execution_count": 28,
      "metadata": {
        "uuid": "9eda9efe-4e85-4bc2-8df3-edd8ab40c7f2",
        "colab": {
          "base_uri": "https://localhost:8080/"
        },
        "id": "YX4RGWAQxvaI",
        "outputId": "6d57ea30-b858-4ff4-bb68-03a0053b01cb"
      },
      "outputs": [
        {
          "output_type": "execute_result",
          "data": {
            "text/plain": [
              "array([ 0.,  1.,  3.,  6., 10., 15., 21., 28.])"
            ]
          },
          "metadata": {},
          "execution_count": 28
        }
      ],
      "source": [
        "a.cumsum()"
      ]
    },
    {
      "cell_type": "code",
      "execution_count": 29,
      "metadata": {
        "colab": {
          "base_uri": "https://localhost:8080/"
        },
        "id": "HLCU9u7nxvaK",
        "outputId": "199e1666-5f7c-4550-fc79-8ff390832615"
      },
      "outputs": [
        {
          "output_type": "execute_result",
          "data": {
            "text/plain": [
              "[0.0, 0.5, 1.5, 3.0, 5.0, 0.0, 0.5, 1.5, 3.0, 5.0]"
            ]
          },
          "metadata": {},
          "execution_count": 29
        }
      ],
      "source": [
        "l = [0., 0.5, 1.5, 3., 5.]\n",
        "2 * l"
      ]
    },
    {
      "cell_type": "code",
      "execution_count": 30,
      "metadata": {
        "colab": {
          "base_uri": "https://localhost:8080/"
        },
        "id": "W6WagGq_xvaL",
        "outputId": "176c8c64-7113-4a92-9e77-6dcf016666b2"
      },
      "outputs": [
        {
          "output_type": "execute_result",
          "data": {
            "text/plain": [
              "array([0., 1., 2., 3., 4., 5., 6., 7.])"
            ]
          },
          "metadata": {},
          "execution_count": 30
        }
      ],
      "source": [
        "a"
      ]
    },
    {
      "cell_type": "code",
      "execution_count": 32,
      "metadata": {
        "uuid": "94ddb4ba-eb2b-4565-80cf-247db6dc5846",
        "colab": {
          "base_uri": "https://localhost:8080/"
        },
        "id": "LJI2IUnaxvaM",
        "outputId": "7b7b379a-01ce-4a1e-f947-1049a377c790"
      },
      "outputs": [
        {
          "output_type": "execute_result",
          "data": {
            "text/plain": [
              "array([ 0.,  2.,  4.,  6.,  8., 10., 12., 14.])"
            ]
          },
          "metadata": {},
          "execution_count": 32
        }
      ],
      "source": [
        "2 * a"
      ]
    },
    {
      "cell_type": "code",
      "execution_count": 33,
      "metadata": {
        "uuid": "5c5f7bd8-b48b-4e8e-b6c8-95b67c9deed0",
        "colab": {
          "base_uri": "https://localhost:8080/"
        },
        "id": "NKT0YysgxvaN",
        "outputId": "1408e574-625a-42d3-da68-67b2e43b956e"
      },
      "outputs": [
        {
          "output_type": "execute_result",
          "data": {
            "text/plain": [
              "array([ 0.,  1.,  4.,  9., 16., 25., 36., 49.])"
            ]
          },
          "metadata": {},
          "execution_count": 33
        }
      ],
      "source": [
        "a ** 2"
      ]
    },
    {
      "cell_type": "code",
      "execution_count": 34,
      "metadata": {
        "colab": {
          "base_uri": "https://localhost:8080/"
        },
        "id": "DsS08HGHxvaP",
        "outputId": "8d4bf82b-e3ab-49da-ce33-c5159d378875"
      },
      "outputs": [
        {
          "output_type": "execute_result",
          "data": {
            "text/plain": [
              "array([  1.,   2.,   4.,   8.,  16.,  32.,  64., 128.])"
            ]
          },
          "metadata": {},
          "execution_count": 34
        }
      ],
      "source": [
        "2 ** a"
      ]
    },
    {
      "cell_type": "code",
      "execution_count": 35,
      "metadata": {
        "colab": {
          "base_uri": "https://localhost:8080/"
        },
        "id": "vYBTY52hxvaQ",
        "outputId": "2f45aa78-fe93-4a40-d872-6370b792bad4"
      },
      "outputs": [
        {
          "output_type": "execute_result",
          "data": {
            "text/plain": [
              "array([1.00000e+00, 1.00000e+00, 4.00000e+00, 2.70000e+01, 2.56000e+02,\n",
              "       3.12500e+03, 4.66560e+04, 8.23543e+05])"
            ]
          },
          "metadata": {},
          "execution_count": 35
        }
      ],
      "source": [
        "a ** a"
      ]
    },
    {
      "cell_type": "code",
      "execution_count": 36,
      "metadata": {
        "colab": {
          "base_uri": "https://localhost:8080/"
        },
        "id": "cZODFqtCxvaR",
        "outputId": "e0f5e7cb-f8c1-4a5a-8a41-b689b450e390"
      },
      "outputs": [
        {
          "output_type": "execute_result",
          "data": {
            "text/plain": [
              "array([1.00000000e+00, 2.71828183e+00, 7.38905610e+00, 2.00855369e+01,\n",
              "       5.45981500e+01, 1.48413159e+02, 4.03428793e+02, 1.09663316e+03])"
            ]
          },
          "metadata": {},
          "execution_count": 36
        }
      ],
      "source": [
        "np.exp(a)"
      ]
    },
    {
      "cell_type": "code",
      "execution_count": 37,
      "metadata": {
        "uuid": "eccae4a8-18fc-4362-8089-faed41fe558a",
        "colab": {
          "base_uri": "https://localhost:8080/"
        },
        "id": "5g65RCjBxvaS",
        "outputId": "64357839-5190-4993-ebcb-1e3263165e2c"
      },
      "outputs": [
        {
          "output_type": "execute_result",
          "data": {
            "text/plain": [
              "array([0.        , 1.        , 1.41421356, 1.73205081, 2.        ,\n",
              "       2.23606798, 2.44948974, 2.64575131])"
            ]
          },
          "metadata": {},
          "execution_count": 37
        }
      ],
      "source": [
        "np.sqrt(a)"
      ]
    },
    {
      "cell_type": "code",
      "execution_count": 38,
      "metadata": {
        "colab": {
          "base_uri": "https://localhost:8080/"
        },
        "id": "7vOxHfEsxvaU",
        "outputId": "4fe43deb-5a82-4a8f-b977-57aa8050944a"
      },
      "outputs": [
        {
          "output_type": "execute_result",
          "data": {
            "text/plain": [
              "np.float64(1.5811388300841898)"
            ]
          },
          "metadata": {},
          "execution_count": 38
        }
      ],
      "source": [
        "np.sqrt(2.5)"
      ]
    },
    {
      "cell_type": "code",
      "execution_count": 39,
      "metadata": {
        "id": "B7cVx0yKxvaV",
        "colab": {
          "base_uri": "https://localhost:8080/"
        },
        "outputId": "90a8324a-59be-491d-eb33-c0b6f43cd4a5"
      },
      "outputs": [
        {
          "output_type": "execute_result",
          "data": {
            "text/plain": [
              "1.5811388300841898"
            ]
          },
          "metadata": {},
          "execution_count": 39
        }
      ],
      "source": [
        "import math\n",
        "math.sqrt(2.5)"
      ]
    },
    {
      "cell_type": "code",
      "execution_count": 40,
      "metadata": {
        "colab": {
          "base_uri": "https://localhost:8080/"
        },
        "id": "VYJP_bwnxvaZ",
        "outputId": "fcacd980-4ea5-4d48-cd89-8fd8250cf671"
      },
      "outputs": [
        {
          "output_type": "stream",
          "name": "stdout",
          "text": [
            "704 ns ± 16.4 ns per loop (mean ± std. dev. of 7 runs, 1000000 loops each)\n"
          ]
        }
      ],
      "source": [
        "%timeit np.sqrt(2.5)"
      ]
    },
    {
      "cell_type": "code",
      "execution_count": 41,
      "metadata": {
        "colab": {
          "base_uri": "https://localhost:8080/"
        },
        "id": "HYvHOwu6xvaa",
        "outputId": "0eb515e8-c507-48de-e45f-872e8484dfad"
      },
      "outputs": [
        {
          "output_type": "stream",
          "name": "stdout",
          "text": [
            "27.6 ns ± 1.01 ns per loop (mean ± std. dev. of 7 runs, 10000000 loops each)\n"
          ]
        }
      ],
      "source": [
        "%timeit math.sqrt(2.5)"
      ]
    },
    {
      "cell_type": "markdown",
      "metadata": {
        "id": "LNk90Z0mxvab"
      },
      "source": [
        "### Multiple Dimensions"
      ]
    },
    {
      "cell_type": "code",
      "execution_count": 42,
      "metadata": {
        "uuid": "3d05357c-109d-45c7-b10b-fe6c958fd33d",
        "colab": {
          "base_uri": "https://localhost:8080/"
        },
        "id": "cqiNYIPYxvac",
        "outputId": "0a8c95e7-2a9f-4ca8-c187-6f59a9861134"
      },
      "outputs": [
        {
          "output_type": "execute_result",
          "data": {
            "text/plain": [
              "array([[ 0.,  1.,  2.,  3.,  4.,  5.,  6.,  7.],\n",
              "       [ 0.,  2.,  4.,  6.,  8., 10., 12., 14.]])"
            ]
          },
          "metadata": {},
          "execution_count": 42
        }
      ],
      "source": [
        "b = np.array([a, a * 2])\n",
        "b"
      ]
    },
    {
      "cell_type": "code",
      "execution_count": 43,
      "metadata": {
        "uuid": "e536d513-ddb7-469d-9ad4-3abbc5cbf006",
        "id": "wymKepACxvae",
        "outputId": "8b4c2e4a-39e5-4c4f-dfe7-16dad0b7a01b",
        "colab": {
          "base_uri": "https://localhost:8080/"
        }
      },
      "outputs": [
        {
          "output_type": "execute_result",
          "data": {
            "text/plain": [
              "array([0., 1., 2., 3., 4., 5., 6., 7.])"
            ]
          },
          "metadata": {},
          "execution_count": 43
        }
      ],
      "source": [
        "b[0]"
      ]
    },
    {
      "cell_type": "code",
      "execution_count": 44,
      "metadata": {
        "uuid": "d1d0c7dd-aadb-4217-b3ea-927f28f51300",
        "colab": {
          "base_uri": "https://localhost:8080/"
        },
        "id": "gI74qBOwxvag",
        "outputId": "fbc8acfe-218d-4eab-b23e-d0d7ed761013"
      },
      "outputs": [
        {
          "output_type": "execute_result",
          "data": {
            "text/plain": [
              "np.float64(2.0)"
            ]
          },
          "metadata": {},
          "execution_count": 44
        }
      ],
      "source": [
        "b[0, 2]"
      ]
    },
    {
      "cell_type": "code",
      "execution_count": 45,
      "metadata": {
        "colab": {
          "base_uri": "https://localhost:8080/"
        },
        "id": "kpaobO1Oxvai",
        "outputId": "6738a108-ade9-4b09-ce71-459c9f39d4c3"
      },
      "outputs": [
        {
          "output_type": "execute_result",
          "data": {
            "text/plain": [
              "array([1., 2.])"
            ]
          },
          "metadata": {},
          "execution_count": 45
        }
      ],
      "source": [
        "b[:, 1]"
      ]
    },
    {
      "cell_type": "code",
      "execution_count": 46,
      "metadata": {
        "uuid": "41b3d64b-6121-4578-b33c-f9bef4d23ddb",
        "colab": {
          "base_uri": "https://localhost:8080/"
        },
        "id": "KXR7T1-4xvak",
        "outputId": "27139d5b-c820-43fb-e239-28de86fa63e2"
      },
      "outputs": [
        {
          "output_type": "execute_result",
          "data": {
            "text/plain": [
              "np.float64(84.0)"
            ]
          },
          "metadata": {},
          "execution_count": 46
        }
      ],
      "source": [
        "b.sum()"
      ]
    },
    {
      "cell_type": "code",
      "execution_count": 47,
      "metadata": {
        "uuid": "ba56b01a-cf24-4bee-be04-cdadd59a6cb5",
        "id": "uiN2b83Fxvam",
        "outputId": "484201f0-3197-4bfb-e907-03699880f3e6",
        "colab": {
          "base_uri": "https://localhost:8080/"
        }
      },
      "outputs": [
        {
          "output_type": "execute_result",
          "data": {
            "text/plain": [
              "array([ 0.,  3.,  6.,  9., 12., 15., 18., 21.])"
            ]
          },
          "metadata": {},
          "execution_count": 47
        }
      ],
      "source": [
        "b.sum(axis=0)"
      ]
    },
    {
      "cell_type": "code",
      "execution_count": 48,
      "metadata": {
        "uuid": "898c4a09-4488-4041-94a3-ea25cbd86637",
        "id": "K-q_MmS7xvan",
        "outputId": "5fb7896f-2c0e-46cb-d87d-9e3416a0e2bc",
        "colab": {
          "base_uri": "https://localhost:8080/"
        }
      },
      "outputs": [
        {
          "output_type": "execute_result",
          "data": {
            "text/plain": [
              "array([28., 56.])"
            ]
          },
          "metadata": {},
          "execution_count": 48
        }
      ],
      "source": [
        "b.sum(axis=1)"
      ]
    },
    {
      "cell_type": "code",
      "execution_count": 49,
      "metadata": {
        "uuid": "6d7362b7-dda8-4961-8be1-96da9b1718cf",
        "id": "w4hOvoM1xvao",
        "outputId": "86cd5af5-217b-47d7-b21e-8a27fbe05079",
        "colab": {
          "base_uri": "https://localhost:8080/"
        }
      },
      "outputs": [
        {
          "output_type": "execute_result",
          "data": {
            "text/plain": [
              "array([[0, 0, 0],\n",
              "       [0, 0, 0]], dtype=int32)"
            ]
          },
          "metadata": {},
          "execution_count": 49
        }
      ],
      "source": [
        "c = np.zeros((2, 3), dtype='i', order='C')\n",
        "c"
      ]
    },
    {
      "cell_type": "code",
      "execution_count": 50,
      "metadata": {
        "uuid": "6d7362b7-dda8-4961-8be1-96da9b1718cf",
        "id": "SLxsk2DXxvaq",
        "outputId": "d8a635b6-8a04-47ec-de09-36b061656df2",
        "colab": {
          "base_uri": "https://localhost:8080/"
        }
      },
      "outputs": [
        {
          "output_type": "execute_result",
          "data": {
            "text/plain": [
              "array([[[1, 1, 1, 1],\n",
              "        [1, 1, 1, 1],\n",
              "        [1, 1, 1, 1]],\n",
              "\n",
              "       [[1, 1, 1, 1],\n",
              "        [1, 1, 1, 1],\n",
              "        [1, 1, 1, 1]]], dtype=int32)"
            ]
          },
          "metadata": {},
          "execution_count": 50
        }
      ],
      "source": [
        "c = np.ones((2, 3, 4), dtype='i', order='C')\n",
        "c"
      ]
    },
    {
      "cell_type": "code",
      "execution_count": 51,
      "metadata": {
        "uuid": "0d4862fd-4847-4dd7-b8cd-e6966bbd5913",
        "id": "YcnLElJRxvar",
        "outputId": "f1578c56-98cf-4217-f571-eee1a3f377ae",
        "colab": {
          "base_uri": "https://localhost:8080/"
        }
      },
      "outputs": [
        {
          "output_type": "execute_result",
          "data": {
            "text/plain": [
              "array([[[0., 0., 0., 0.],\n",
              "        [0., 0., 0., 0.],\n",
              "        [0., 0., 0., 0.]],\n",
              "\n",
              "       [[0., 0., 0., 0.],\n",
              "        [0., 0., 0., 0.],\n",
              "        [0., 0., 0., 0.]]], dtype=float128)"
            ]
          },
          "metadata": {},
          "execution_count": 51
        }
      ],
      "source": [
        "d = np.zeros_like(c, dtype='f16', order='C')\n",
        "d"
      ]
    },
    {
      "cell_type": "markdown",
      "metadata": {
        "id": "d89Gk5mJxvbr"
      },
      "source": [
        "### Speed Comparison"
      ]
    },
    {
      "cell_type": "code",
      "execution_count": 53,
      "metadata": {
        "id": "1DXQR5hNxvbr"
      },
      "outputs": [],
      "source": [
        "import random\n",
        "I = 5000"
      ]
    },
    {
      "cell_type": "code",
      "execution_count": 54,
      "metadata": {
        "id": "eQtV3NQoxvbs",
        "outputId": "79d87259-ebee-461c-fc10-193bc2d5120c",
        "colab": {
          "base_uri": "https://localhost:8080/"
        }
      },
      "outputs": [
        {
          "output_type": "stream",
          "name": "stdout",
          "text": [
            "CPU times: user 9.79 s, sys: 458 ms, total: 10.2 s\n",
            "Wall time: 10.3 s\n"
          ]
        }
      ],
      "source": [
        "%time mat = [[random.gauss(0, 1) for j in range(I)] \\\n",
        "             for i in range(I)]"
      ]
    },
    {
      "cell_type": "code",
      "execution_count": 55,
      "metadata": {
        "id": "eL9aVX32xvbv",
        "outputId": "16b86645-a0b2-4577-82bd-94b2967eb194",
        "colab": {
          "base_uri": "https://localhost:8080/"
        }
      },
      "outputs": [
        {
          "output_type": "stream",
          "name": "stdout",
          "text": [
            "CPU times: user 108 ms, sys: 1.97 ms, total: 110 ms\n",
            "Wall time: 110 ms\n"
          ]
        },
        {
          "output_type": "execute_result",
          "data": {
            "text/plain": [
              "9720.806591594823"
            ]
          },
          "metadata": {},
          "execution_count": 55
        }
      ],
      "source": [
        "%time sum([sum(l) for l in mat])"
      ]
    },
    {
      "cell_type": "code",
      "execution_count": 56,
      "metadata": {
        "id": "7Y2xNEwzxvbx",
        "outputId": "41833616-ffa6-40f7-992e-aa0e1f6017c0",
        "colab": {
          "base_uri": "https://localhost:8080/"
        }
      },
      "outputs": [
        {
          "output_type": "stream",
          "name": "stdout",
          "text": [
            "CPU times: user 535 ms, sys: 32.9 ms, total: 568 ms\n",
            "Wall time: 566 ms\n"
          ]
        }
      ],
      "source": [
        "%time mat = np.random.standard_normal((I, I))"
      ]
    },
    {
      "cell_type": "code",
      "execution_count": 57,
      "metadata": {
        "id": "ZVufbohpxvby",
        "outputId": "968dfd86-bf5f-428d-e1e4-528a729267f5",
        "colab": {
          "base_uri": "https://localhost:8080/"
        }
      },
      "outputs": [
        {
          "output_type": "stream",
          "name": "stdout",
          "text": [
            "CPU times: user 18.4 ms, sys: 0 ns, total: 18.4 ms\n",
            "Wall time: 17.6 ms\n"
          ]
        },
        {
          "output_type": "execute_result",
          "data": {
            "text/plain": [
              "np.float64(8074.401391234114)"
            ]
          },
          "metadata": {},
          "execution_count": 57
        }
      ],
      "source": [
        "%time mat.sum()"
      ]
    },
    {
      "cell_type": "markdown",
      "metadata": {
        "id": "0HrI_1PFxvb1"
      },
      "source": [
        "### Structured Arrays"
      ]
    },
    {
      "cell_type": "code",
      "execution_count": 58,
      "metadata": {
        "id": "qaD4XDtbxvb2"
      },
      "outputs": [],
      "source": [
        "dt = np.dtype([('Name', 'S10'), ('Age', 'i4'),\n",
        "               ('Height', 'f'), ('Children/Pets', 'i4', 2)])"
      ]
    },
    {
      "cell_type": "code",
      "execution_count": 59,
      "metadata": {
        "id": "x5gbrHBwxvb9"
      },
      "outputs": [],
      "source": [
        "s = np.array([('Smith', 45, 1.83, (0, 1)),\n",
        "              ('Jones', 53, 1.72, (2, 2))], dtype=dt)"
      ]
    },
    {
      "cell_type": "code",
      "execution_count": 60,
      "metadata": {
        "uuid": "9932654e-a73d-4cd6-a18e-5199f29efe44",
        "id": "KIygIolZxvcA",
        "outputId": "51d700ee-db15-482b-c7b4-89924dc11b90",
        "colab": {
          "base_uri": "https://localhost:8080/"
        }
      },
      "outputs": [
        {
          "output_type": "execute_result",
          "data": {
            "text/plain": [
              "array([b'Smith', b'Jones'], dtype='|S10')"
            ]
          },
          "metadata": {},
          "execution_count": 60
        }
      ],
      "source": [
        "s['Name']"
      ]
    },
    {
      "cell_type": "code",
      "execution_count": 61,
      "metadata": {
        "uuid": "10dc3d78-b6dc-4bf0-a4f1-1a4315bf0f2f",
        "id": "DhCZ2s34xvcC",
        "outputId": "ee5da159-cae9-4e94-9d26-552ebabf3393",
        "colab": {
          "base_uri": "https://localhost:8080/"
        }
      },
      "outputs": [
        {
          "output_type": "execute_result",
          "data": {
            "text/plain": [
              "np.float32(1.7750001)"
            ]
          },
          "metadata": {},
          "execution_count": 61
        }
      ],
      "source": [
        "s['Height'].mean()"
      ]
    },
    {
      "cell_type": "code",
      "execution_count": null,
      "metadata": {
        "id": "w5aa1N8axvcD",
        "outputId": "32473c23-4390-476b-949c-26736231c019"
      },
      "outputs": [
        {
          "data": {
            "text/plain": [
              "('Smith', 45, 1.83, (0, 1))"
            ]
          },
          "execution_count": 127,
          "metadata": {},
          "output_type": "execute_result"
        }
      ],
      "source": [
        "s[0]"
      ]
    },
    {
      "cell_type": "code",
      "execution_count": 62,
      "metadata": {
        "uuid": "1385e680-2a16-440d-a674-2ea5757fb41b",
        "id": "nKISljgPxvcE",
        "outputId": "a2568d44-c95f-428a-b37c-09f9a14f91e5",
        "colab": {
          "base_uri": "https://localhost:8080/"
        }
      },
      "outputs": [
        {
          "output_type": "execute_result",
          "data": {
            "text/plain": [
              "np.int32(53)"
            ]
          },
          "metadata": {},
          "execution_count": 62
        }
      ],
      "source": [
        "s[1]['Age']"
      ]
    },
    {
      "cell_type": "markdown",
      "metadata": {
        "id": "r_xqhkQWxvcF"
      },
      "source": [
        "## Vectorization of Code"
      ]
    },
    {
      "cell_type": "code",
      "execution_count": 63,
      "metadata": {
        "uuid": "28bac5ac-be5d-4f60-acc6-f844259c5a22",
        "id": "izfKO17xxvcG"
      },
      "outputs": [],
      "source": [
        "np.random.seed(100)\n",
        "r = np.arange(12).reshape((4, 3))\n",
        "s = np.arange(12).reshape((4, 3)) * 0.5"
      ]
    },
    {
      "cell_type": "code",
      "execution_count": 64,
      "metadata": {
        "id": "YL-JrUpexvcH",
        "outputId": "8ac5fc96-57e8-4357-a373-e1a89947ef66",
        "colab": {
          "base_uri": "https://localhost:8080/"
        }
      },
      "outputs": [
        {
          "output_type": "execute_result",
          "data": {
            "text/plain": [
              "array([[ 0,  1,  2],\n",
              "       [ 3,  4,  5],\n",
              "       [ 6,  7,  8],\n",
              "       [ 9, 10, 11]])"
            ]
          },
          "metadata": {},
          "execution_count": 64
        }
      ],
      "source": [
        "r"
      ]
    },
    {
      "cell_type": "code",
      "execution_count": 65,
      "metadata": {
        "id": "woP0FENOxvcI",
        "outputId": "67c9ca8c-3dd4-4996-c74e-3bd1041aaa54",
        "colab": {
          "base_uri": "https://localhost:8080/"
        }
      },
      "outputs": [
        {
          "output_type": "execute_result",
          "data": {
            "text/plain": [
              "array([[0. , 0.5, 1. ],\n",
              "       [1.5, 2. , 2.5],\n",
              "       [3. , 3.5, 4. ],\n",
              "       [4.5, 5. , 5.5]])"
            ]
          },
          "metadata": {},
          "execution_count": 65
        }
      ],
      "source": [
        "s"
      ]
    },
    {
      "cell_type": "code",
      "execution_count": 66,
      "metadata": {
        "scrolled": true,
        "uuid": "91d91253-168a-4ff2-8452-67e2cfd5c2f8",
        "id": "JB2nPWpSxvcK",
        "outputId": "be3a2019-febc-436e-cc9a-e20e2a382715",
        "colab": {
          "base_uri": "https://localhost:8080/"
        }
      },
      "outputs": [
        {
          "output_type": "execute_result",
          "data": {
            "text/plain": [
              "array([[ 0. ,  1.5,  3. ],\n",
              "       [ 4.5,  6. ,  7.5],\n",
              "       [ 9. , 10.5, 12. ],\n",
              "       [13.5, 15. , 16.5]])"
            ]
          },
          "metadata": {},
          "execution_count": 66
        }
      ],
      "source": [
        "r + s"
      ]
    },
    {
      "cell_type": "code",
      "execution_count": 67,
      "metadata": {
        "uuid": "305b5877-2410-48e0-b5d3-d7f2f384e953",
        "id": "vSmHKviHxvcL",
        "outputId": "768130ea-0f62-49aa-f719-5c0348773214",
        "colab": {
          "base_uri": "https://localhost:8080/"
        }
      },
      "outputs": [
        {
          "output_type": "execute_result",
          "data": {
            "text/plain": [
              "array([[ 3,  4,  5],\n",
              "       [ 6,  7,  8],\n",
              "       [ 9, 10, 11],\n",
              "       [12, 13, 14]])"
            ]
          },
          "metadata": {},
          "execution_count": 67
        }
      ],
      "source": [
        "r + 3"
      ]
    },
    {
      "cell_type": "code",
      "execution_count": 68,
      "metadata": {
        "id": "LwwOlQi0xvcM",
        "outputId": "b407623c-8802-4440-8226-0164a903bee1",
        "colab": {
          "base_uri": "https://localhost:8080/"
        }
      },
      "outputs": [
        {
          "output_type": "execute_result",
          "data": {
            "text/plain": [
              "array([[ 0,  2,  4],\n",
              "       [ 6,  8, 10],\n",
              "       [12, 14, 16],\n",
              "       [18, 20, 22]])"
            ]
          },
          "metadata": {},
          "execution_count": 68
        }
      ],
      "source": [
        "2 * r"
      ]
    },
    {
      "cell_type": "code",
      "execution_count": 69,
      "metadata": {
        "id": "y1hvkJcsxvcO",
        "outputId": "39591424-6cc1-4126-d034-f9fa671d7528",
        "colab": {
          "base_uri": "https://localhost:8080/"
        }
      },
      "outputs": [
        {
          "output_type": "execute_result",
          "data": {
            "text/plain": [
              "array([[ 3,  5,  7],\n",
              "       [ 9, 11, 13],\n",
              "       [15, 17, 19],\n",
              "       [21, 23, 25]])"
            ]
          },
          "metadata": {},
          "execution_count": 69
        }
      ],
      "source": [
        "2 * r + 3"
      ]
    },
    {
      "cell_type": "code",
      "execution_count": 70,
      "metadata": {
        "id": "XVLGPTQcxvcQ",
        "outputId": "a596848b-725b-4862-ea8f-dfa277746ab4",
        "colab": {
          "base_uri": "https://localhost:8080/"
        }
      },
      "outputs": [
        {
          "output_type": "execute_result",
          "data": {
            "text/plain": [
              "array([[ 0,  1,  2],\n",
              "       [ 3,  4,  5],\n",
              "       [ 6,  7,  8],\n",
              "       [ 9, 10, 11]])"
            ]
          },
          "metadata": {},
          "execution_count": 70
        }
      ],
      "source": [
        "r"
      ]
    },
    {
      "cell_type": "code",
      "execution_count": 71,
      "metadata": {
        "id": "lIp9PlMixvcR",
        "outputId": "1702c441-f858-4552-979e-b8e79929aaa3",
        "colab": {
          "base_uri": "https://localhost:8080/"
        }
      },
      "outputs": [
        {
          "output_type": "execute_result",
          "data": {
            "text/plain": [
              "(4, 3)"
            ]
          },
          "metadata": {},
          "execution_count": 71
        }
      ],
      "source": [
        "r.shape"
      ]
    },
    {
      "cell_type": "code",
      "execution_count": 72,
      "metadata": {
        "id": "1O49MRNHxvcS",
        "outputId": "65d08b5d-37f0-4607-c285-90e6f4bf3a1d",
        "colab": {
          "base_uri": "https://localhost:8080/"
        }
      },
      "outputs": [
        {
          "output_type": "execute_result",
          "data": {
            "text/plain": [
              "array([0, 4, 8])"
            ]
          },
          "metadata": {},
          "execution_count": 72
        }
      ],
      "source": [
        "s = np.arange(0, 12, 4)\n",
        "s"
      ]
    },
    {
      "cell_type": "code",
      "execution_count": 73,
      "metadata": {
        "uuid": "dd5f63cb-da0f-4397-8d86-315d115d4029",
        "id": "Bi8TuTKzxvcT",
        "outputId": "fc0e07a6-4c62-459a-f94b-a595571a9a71",
        "colab": {
          "base_uri": "https://localhost:8080/"
        }
      },
      "outputs": [
        {
          "output_type": "execute_result",
          "data": {
            "text/plain": [
              "array([[ 0,  5, 10],\n",
              "       [ 3,  8, 13],\n",
              "       [ 6, 11, 16],\n",
              "       [ 9, 14, 19]])"
            ]
          },
          "metadata": {},
          "execution_count": 73
        }
      ],
      "source": [
        "r + s"
      ]
    },
    {
      "cell_type": "code",
      "execution_count": 74,
      "metadata": {
        "uuid": "cc58e76c-c3b1-495b-9cbe-8fb3fa92a59d",
        "id": "bBvhvKE8xvcV",
        "outputId": "f668d936-74d0-4c8a-c928-7d825fc49832",
        "colab": {
          "base_uri": "https://localhost:8080/"
        }
      },
      "outputs": [
        {
          "output_type": "execute_result",
          "data": {
            "text/plain": [
              "array([0, 3, 6, 9])"
            ]
          },
          "metadata": {},
          "execution_count": 74
        }
      ],
      "source": [
        "s = np.arange(0, 12, 3)\n",
        "s"
      ]
    },
    {
      "cell_type": "code",
      "execution_count": 75,
      "metadata": {
        "id": "OMNRJxgLxvcW",
        "colab": {
          "base_uri": "https://localhost:8080/",
          "height": 167
        },
        "outputId": "45930196-6931-4619-dfe5-f241a6a6edce"
      },
      "outputs": [
        {
          "output_type": "error",
          "ename": "ValueError",
          "evalue": "operands could not be broadcast together with shapes (4,3) (4,) ",
          "traceback": [
            "\u001b[0;31m---------------------------------------------------------------------------\u001b[0m",
            "\u001b[0;31mValueError\u001b[0m                                Traceback (most recent call last)",
            "\u001b[0;32m/tmp/ipython-input-75-267047818.py\u001b[0m in \u001b[0;36m<cell line: 0>\u001b[0;34m()\u001b[0m\n\u001b[1;32m      1\u001b[0m \u001b[0;31m# causes intentional error\u001b[0m\u001b[0;34m\u001b[0m\u001b[0;34m\u001b[0m\u001b[0m\n\u001b[0;32m----> 2\u001b[0;31m \u001b[0mr\u001b[0m \u001b[0;34m+\u001b[0m \u001b[0ms\u001b[0m\u001b[0;34m\u001b[0m\u001b[0;34m\u001b[0m\u001b[0m\n\u001b[0m",
            "\u001b[0;31mValueError\u001b[0m: operands could not be broadcast together with shapes (4,3) (4,) "
          ]
        }
      ],
      "source": [
        "# causes intentional error\n",
        "r + s"
      ]
    },
    {
      "cell_type": "code",
      "execution_count": 76,
      "metadata": {
        "uuid": "011f4087-a2d6-4731-ac27-07f31d11f017",
        "id": "ECE7UxV-xvcY",
        "outputId": "2e4a9107-3afc-4085-d513-b6724dc58963",
        "colab": {
          "base_uri": "https://localhost:8080/"
        }
      },
      "outputs": [
        {
          "output_type": "execute_result",
          "data": {
            "text/plain": [
              "array([[ 0,  6, 12, 18],\n",
              "       [ 1,  7, 13, 19],\n",
              "       [ 2,  8, 14, 20]])"
            ]
          },
          "metadata": {},
          "execution_count": 76
        }
      ],
      "source": [
        "r.transpose() + s"
      ]
    },
    {
      "cell_type": "code",
      "execution_count": 77,
      "metadata": {
        "id": "_Oihjq7axvca",
        "outputId": "23c31d7f-b006-43be-bcd8-df785e5f5827",
        "colab": {
          "base_uri": "https://localhost:8080/"
        }
      },
      "outputs": [
        {
          "output_type": "execute_result",
          "data": {
            "text/plain": [
              "array([[0],\n",
              "       [3],\n",
              "       [6],\n",
              "       [9]])"
            ]
          },
          "metadata": {},
          "execution_count": 77
        }
      ],
      "source": [
        "sr = s.reshape(-1, 1)\n",
        "sr"
      ]
    },
    {
      "cell_type": "code",
      "execution_count": 78,
      "metadata": {
        "id": "Ru6mqhbuxvcb",
        "outputId": "6a6b5345-3956-4295-e557-d162dab30ee2",
        "colab": {
          "base_uri": "https://localhost:8080/"
        }
      },
      "outputs": [
        {
          "output_type": "execute_result",
          "data": {
            "text/plain": [
              "(4, 1)"
            ]
          },
          "metadata": {},
          "execution_count": 78
        }
      ],
      "source": [
        "sr.shape"
      ]
    },
    {
      "cell_type": "code",
      "execution_count": 79,
      "metadata": {
        "id": "4-pRv9xixvcc",
        "outputId": "a9085280-aae5-41ac-c36c-e266766b218a",
        "colab": {
          "base_uri": "https://localhost:8080/"
        }
      },
      "outputs": [
        {
          "output_type": "execute_result",
          "data": {
            "text/plain": [
              "array([[ 0,  1,  2],\n",
              "       [ 6,  7,  8],\n",
              "       [12, 13, 14],\n",
              "       [18, 19, 20]])"
            ]
          },
          "metadata": {},
          "execution_count": 79
        }
      ],
      "source": [
        "r + s.reshape(-1, 1)"
      ]
    },
    {
      "cell_type": "code",
      "execution_count": 80,
      "metadata": {
        "uuid": "0f3b5cad-0146-4203-b158-238203ef5764",
        "id": "M1r2k3nHxvcd"
      },
      "outputs": [],
      "source": [
        "def f(x):\n",
        "    return 3 * x + 5"
      ]
    },
    {
      "cell_type": "code",
      "execution_count": 81,
      "metadata": {
        "uuid": "08b395e9-13fc-43c1-8bba-28c63a216366",
        "id": "Sp_OHVuVxvcf",
        "outputId": "785563f7-3c13-4e1f-b180-54d52e60bfd1",
        "colab": {
          "base_uri": "https://localhost:8080/"
        }
      },
      "outputs": [
        {
          "output_type": "execute_result",
          "data": {
            "text/plain": [
              "6.5"
            ]
          },
          "metadata": {},
          "execution_count": 81
        }
      ],
      "source": [
        "f(0.5)"
      ]
    },
    {
      "cell_type": "code",
      "execution_count": 82,
      "metadata": {
        "uuid": "1895e566-c5ee-4856-bca5-37fef37df0c5",
        "id": "pdrTw_dtxvcg",
        "outputId": "b1ff7afb-4a59-4226-f5c3-73f8d983e47b",
        "colab": {
          "base_uri": "https://localhost:8080/"
        }
      },
      "outputs": [
        {
          "output_type": "execute_result",
          "data": {
            "text/plain": [
              "array([[ 5,  8, 11],\n",
              "       [14, 17, 20],\n",
              "       [23, 26, 29],\n",
              "       [32, 35, 38]])"
            ]
          },
          "metadata": {},
          "execution_count": 82
        }
      ],
      "source": [
        "f(r)"
      ]
    }
  ],
  "metadata": {
    "kernelspec": {
      "display_name": "Python 3",
      "language": "python",
      "name": "python3"
    },
    "language_info": {
      "codemirror_mode": {
        "name": "ipython",
        "version": 3
      },
      "file_extension": ".py",
      "mimetype": "text/x-python",
      "name": "python",
      "nbconvert_exporter": "python",
      "pygments_lexer": "ipython3",
      "version": "3.6.6"
    },
    "colab": {
      "provenance": [],
      "include_colab_link": true
    }
  },
  "nbformat": 4,
  "nbformat_minor": 0
}