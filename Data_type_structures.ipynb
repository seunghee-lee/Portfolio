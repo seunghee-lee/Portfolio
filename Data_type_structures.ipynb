{
  "cells": [
    {
      "cell_type": "markdown",
      "metadata": {
        "id": "view-in-github",
        "colab_type": "text"
      },
      "source": [
        "<a href=\"https://colab.research.google.com/github/seunghee-lee/Portfolio/blob/main/Data_type_structures.ipynb\" target=\"_parent\"><img src=\"https://colab.research.google.com/assets/colab-badge.svg\" alt=\"Open In Colab\"/></a>"
      ]
    },
    {
      "cell_type": "markdown",
      "metadata": {
        "id": "080aqODrb9g4"
      },
      "source": [
        "# Data Types and Structures"
      ]
    },
    {
      "cell_type": "markdown",
      "metadata": {
        "id": "QLPvW5xWb9g5"
      },
      "source": [
        "## Basic Data Types"
      ]
    },
    {
      "cell_type": "markdown",
      "metadata": {
        "id": "AxW53ab8b9g5"
      },
      "source": [
        "### Integers"
      ]
    },
    {
      "cell_type": "code",
      "execution_count": 1,
      "metadata": {
        "uuid": "16aa85ac-ab50-480b-bf7c-d49343bbe65a",
        "colab": {
          "base_uri": "https://localhost:8080/"
        },
        "id": "1iIl41vFb9g5",
        "outputId": "a332619d-e504-4d54-e8b7-aeabc8442122"
      },
      "outputs": [
        {
          "output_type": "execute_result",
          "data": {
            "text/plain": [
              "int"
            ]
          },
          "metadata": {},
          "execution_count": 1
        }
      ],
      "source": [
        "a = 10\n",
        "type(a)"
      ]
    },
    {
      "cell_type": "code",
      "execution_count": 2,
      "metadata": {
        "uuid": "2128044d-a150-4ea6-9aa3-6d6efb93bcf8",
        "colab": {
          "base_uri": "https://localhost:8080/"
        },
        "id": "8llt6I8Vb9g7",
        "outputId": "5a1ffd9a-d8f7-4c63-87d3-25a95654ab39"
      },
      "outputs": [
        {
          "output_type": "execute_result",
          "data": {
            "text/plain": [
              "4"
            ]
          },
          "metadata": {},
          "execution_count": 2
        }
      ],
      "source": [
        "a.bit_length()"
      ]
    },
    {
      "cell_type": "code",
      "execution_count": 3,
      "metadata": {
        "uuid": "19c4eea7-f4b6-48ac-a265-a5b5d61a838f",
        "colab": {
          "base_uri": "https://localhost:8080/"
        },
        "id": "WvxTgHkib9g8",
        "outputId": "76b1e924-0823-480c-a76b-5ff96608cd5d"
      },
      "outputs": [
        {
          "output_type": "execute_result",
          "data": {
            "text/plain": [
              "17"
            ]
          },
          "metadata": {},
          "execution_count": 3
        }
      ],
      "source": [
        "a = 100000\n",
        "a.bit_length()"
      ]
    },
    {
      "cell_type": "code",
      "execution_count": 4,
      "metadata": {
        "uuid": "34c9348e-fc24-4cb3-9f1e-538b517d16b7",
        "colab": {
          "base_uri": "https://localhost:8080/"
        },
        "id": "rmJWgA9kb9g8",
        "outputId": "8b04e770-7b60-4faf-f7cd-de55c2aafcc7"
      },
      "outputs": [
        {
          "output_type": "execute_result",
          "data": {
            "text/plain": [
              "10000000000000000000000000000000000000000000000000000000000000000000000000000000000000000000000000000"
            ]
          },
          "metadata": {},
          "execution_count": 4
        }
      ],
      "source": [
        "googol = 10 ** 100\n",
        "googol"
      ]
    },
    {
      "cell_type": "code",
      "execution_count": 5,
      "metadata": {
        "uuid": "55230cf3-5d00-4958-8ae9-2407ae6c968f",
        "colab": {
          "base_uri": "https://localhost:8080/"
        },
        "id": "o16ugRG-b9g9",
        "outputId": "5ffb7ad7-d194-4296-bb26-2c2aa77e3c11"
      },
      "outputs": [
        {
          "output_type": "execute_result",
          "data": {
            "text/plain": [
              "333"
            ]
          },
          "metadata": {},
          "execution_count": 5
        }
      ],
      "source": [
        "googol.bit_length()"
      ]
    },
    {
      "cell_type": "code",
      "execution_count": 6,
      "metadata": {
        "uuid": "4f0ff5d0-e5aa-4825-8a0c-9db8297d8414",
        "colab": {
          "base_uri": "https://localhost:8080/"
        },
        "id": "vsw3lSeOb9g9",
        "outputId": "33127335-cfe3-4c72-db03-64744a7d0ae3"
      },
      "outputs": [
        {
          "output_type": "execute_result",
          "data": {
            "text/plain": [
              "5"
            ]
          },
          "metadata": {},
          "execution_count": 6
        }
      ],
      "source": [
        "1 + 4"
      ]
    },
    {
      "cell_type": "code",
      "execution_count": 7,
      "metadata": {
        "uuid": "3b44359c-ea14-4273-b275-f38b946955cb",
        "colab": {
          "base_uri": "https://localhost:8080/"
        },
        "id": "fKusUwyVb9g9",
        "outputId": "3435bbd1-c0b9-4f7e-9c30-23c84310e283"
      },
      "outputs": [
        {
          "output_type": "execute_result",
          "data": {
            "text/plain": [
              "0.25"
            ]
          },
          "metadata": {},
          "execution_count": 7
        }
      ],
      "source": [
        "1 / 4"
      ]
    },
    {
      "cell_type": "code",
      "execution_count": 8,
      "metadata": {
        "uuid": "1ee18247-5627-481a-8180-ba4ce158ebaf",
        "colab": {
          "base_uri": "https://localhost:8080/"
        },
        "id": "PnXMS7TCb9g-",
        "outputId": "c6dc9661-5842-480c-c1f2-7292d6c696dc"
      },
      "outputs": [
        {
          "output_type": "execute_result",
          "data": {
            "text/plain": [
              "float"
            ]
          },
          "metadata": {},
          "execution_count": 8
        }
      ],
      "source": [
        "type(1 / 4)"
      ]
    },
    {
      "cell_type": "markdown",
      "metadata": {
        "id": "iI6NPC37b9g-"
      },
      "source": [
        "### Floats"
      ]
    },
    {
      "cell_type": "code",
      "execution_count": 9,
      "metadata": {
        "uuid": "3ba6e56a-a026-4eb7-ad01-0b7593ef5692",
        "colab": {
          "base_uri": "https://localhost:8080/"
        },
        "id": "stM1r-SBb9g-",
        "outputId": "69cdb017-9250-4c95-90f8-812300080da4"
      },
      "outputs": [
        {
          "output_type": "execute_result",
          "data": {
            "text/plain": [
              "0.4"
            ]
          },
          "metadata": {},
          "execution_count": 9
        }
      ],
      "source": [
        "1.6 / 4"
      ]
    },
    {
      "cell_type": "code",
      "execution_count": 10,
      "metadata": {
        "uuid": "37a1e7ff-5949-4f0e-b4de-6ac28ee69e31",
        "colab": {
          "base_uri": "https://localhost:8080/"
        },
        "id": "1Q07TtuQb9g_",
        "outputId": "5c31b214-2db5-427b-b6b5-3a1a4337bf97"
      },
      "outputs": [
        {
          "output_type": "execute_result",
          "data": {
            "text/plain": [
              "float"
            ]
          },
          "metadata": {},
          "execution_count": 10
        }
      ],
      "source": [
        "type (1.6 / 4)"
      ]
    },
    {
      "cell_type": "code",
      "execution_count": 11,
      "metadata": {
        "uuid": "82d6e596-d9ec-49d9-85c4-6a8cb33b2a79",
        "colab": {
          "base_uri": "https://localhost:8080/"
        },
        "id": "3HY_EfI7b9g_",
        "outputId": "d00e039e-4fd2-4f00-d403-ab71daaef837"
      },
      "outputs": [
        {
          "output_type": "execute_result",
          "data": {
            "text/plain": [
              "float"
            ]
          },
          "metadata": {},
          "execution_count": 11
        }
      ],
      "source": [
        "b = 0.35\n",
        "type(b)"
      ]
    },
    {
      "cell_type": "code",
      "execution_count": 12,
      "metadata": {
        "uuid": "a3f371c1-9a9a-4d19-bfac-3dc119486abb",
        "colab": {
          "base_uri": "https://localhost:8080/"
        },
        "id": "kwJVk2Wob9g_",
        "outputId": "d70de612-1219-4d42-c496-0cb27d6a56b3"
      },
      "outputs": [
        {
          "output_type": "execute_result",
          "data": {
            "text/plain": [
              "0.44999999999999996"
            ]
          },
          "metadata": {},
          "execution_count": 12
        }
      ],
      "source": [
        "b + 0.1"
      ]
    },
    {
      "cell_type": "code",
      "execution_count": 13,
      "metadata": {
        "uuid": "4cf2a3ed-6231-4672-9df1-03c60e3dfe7b",
        "colab": {
          "base_uri": "https://localhost:8080/"
        },
        "id": "dLZoDvgEb9hA",
        "outputId": "a97762fd-6fa3-4ab2-fe8e-c260f4ea2e02"
      },
      "outputs": [
        {
          "output_type": "execute_result",
          "data": {
            "text/plain": [
              "(1, 2)"
            ]
          },
          "metadata": {},
          "execution_count": 13
        }
      ],
      "source": [
        "c = 0.5\n",
        "c.as_integer_ratio()"
      ]
    },
    {
      "cell_type": "code",
      "execution_count": 14,
      "metadata": {
        "uuid": "af99f61f-afdb-41f8-bbf8-5abd0e7c9890",
        "colab": {
          "base_uri": "https://localhost:8080/"
        },
        "id": "m2dt44uAb9hA",
        "outputId": "b20e5ac7-8ec5-4d6b-ca14-a2de61cdb566"
      },
      "outputs": [
        {
          "output_type": "execute_result",
          "data": {
            "text/plain": [
              "(3152519739159347, 9007199254740992)"
            ]
          },
          "metadata": {},
          "execution_count": 14
        }
      ],
      "source": [
        "b.as_integer_ratio()"
      ]
    },
    {
      "cell_type": "code",
      "execution_count": 15,
      "metadata": {
        "uuid": "5584d3cc-2cdb-4ce9-9ac7-25541dc6e9b8",
        "id": "Y9BUzJaeb9hA"
      },
      "outputs": [],
      "source": [
        "import decimal\n",
        "from decimal import Decimal"
      ]
    },
    {
      "cell_type": "code",
      "execution_count": 16,
      "metadata": {
        "uuid": "40822f81-0da3-4d62-9e31-713d0068de2f",
        "colab": {
          "base_uri": "https://localhost:8080/"
        },
        "id": "BaBd5qaXb9hB",
        "outputId": "0e9e32ec-8401-45f3-8680-9c7dc109e512"
      },
      "outputs": [
        {
          "output_type": "execute_result",
          "data": {
            "text/plain": [
              "Context(prec=28, rounding=ROUND_HALF_EVEN, Emin=-999999, Emax=999999, capitals=1, clamp=0, flags=[], traps=[InvalidOperation, DivisionByZero, Overflow])"
            ]
          },
          "metadata": {},
          "execution_count": 16
        }
      ],
      "source": [
        "decimal.getcontext()"
      ]
    },
    {
      "cell_type": "code",
      "execution_count": 17,
      "metadata": {
        "uuid": "775a8fc7-380f-4444-b394-ccdb6d8e6ea9",
        "colab": {
          "base_uri": "https://localhost:8080/"
        },
        "id": "R-FJ_xIzb9hB",
        "outputId": "d477bdbe-0ff2-4e8e-ec1d-9ef768fdd916"
      },
      "outputs": [
        {
          "output_type": "execute_result",
          "data": {
            "text/plain": [
              "Decimal('0.09090909090909090909090909091')"
            ]
          },
          "metadata": {},
          "execution_count": 17
        }
      ],
      "source": [
        "d = Decimal(1) / Decimal (11)\n",
        "d"
      ]
    },
    {
      "cell_type": "code",
      "execution_count": 18,
      "metadata": {
        "uuid": "2a184e95-cc99-4b25-9905-b6d9becb2670",
        "colab": {
          "base_uri": "https://localhost:8080/"
        },
        "id": "4cIE0FVab9hB",
        "outputId": "8ca47fe7-10cb-4ba9-9408-c93bd5ccd9d1"
      },
      "outputs": [
        {
          "output_type": "execute_result",
          "data": {
            "text/plain": [
              "Decimal('0.09091')"
            ]
          },
          "metadata": {},
          "execution_count": 18
        }
      ],
      "source": [
        "decimal.getcontext().prec = 4\n",
        "e = Decimal(1) / Decimal (11)\n",
        "e"
      ]
    },
    {
      "cell_type": "code",
      "execution_count": 19,
      "metadata": {
        "uuid": "6fa10fc7-4d21-4490-95a1-4a1be00f2c19",
        "colab": {
          "base_uri": "https://localhost:8080/"
        },
        "id": "jt24Ul_Eb9hC",
        "outputId": "4b5a915e-bcb8-4517-934d-c9fd2d99ba54"
      },
      "outputs": [
        {
          "output_type": "execute_result",
          "data": {
            "text/plain": [
              "Decimal('0.090909090909090909090909090909090909090909090909091')"
            ]
          },
          "metadata": {},
          "execution_count": 19
        }
      ],
      "source": [
        "decimal.getcontext().prec = 50\n",
        "f = Decimal(1) / Decimal (11)\n",
        "f"
      ]
    },
    {
      "cell_type": "code",
      "execution_count": 20,
      "metadata": {
        "uuid": "17a5e733-475b-4a49-a320-9b67bd45ce2e",
        "colab": {
          "base_uri": "https://localhost:8080/"
        },
        "id": "ifXcCBnHb9hC",
        "outputId": "05e87f6d-d154-48d5-f7bf-5ecca648ecaf"
      },
      "outputs": [
        {
          "output_type": "execute_result",
          "data": {
            "text/plain": [
              "Decimal('0.27272818181818181818181818181909090909090909090909')"
            ]
          },
          "metadata": {},
          "execution_count": 20
        }
      ],
      "source": [
        "g = d + e + f\n",
        "g"
      ]
    },
    {
      "cell_type": "markdown",
      "metadata": {
        "id": "uDhbcZZTb9hC"
      },
      "source": [
        "### Boolean"
      ]
    },
    {
      "cell_type": "code",
      "execution_count": 21,
      "metadata": {
        "id": "quiRtrskb9hD"
      },
      "outputs": [],
      "source": [
        "import keyword"
      ]
    },
    {
      "cell_type": "code",
      "execution_count": 22,
      "metadata": {
        "colab": {
          "base_uri": "https://localhost:8080/"
        },
        "id": "y-S7yybMb9hD",
        "outputId": "9fbc7952-2eba-47c7-cacc-084a86c90fe4"
      },
      "outputs": [
        {
          "output_type": "execute_result",
          "data": {
            "text/plain": [
              "['False',\n",
              " 'None',\n",
              " 'True',\n",
              " 'and',\n",
              " 'as',\n",
              " 'assert',\n",
              " 'async',\n",
              " 'await',\n",
              " 'break',\n",
              " 'class',\n",
              " 'continue',\n",
              " 'def',\n",
              " 'del',\n",
              " 'elif',\n",
              " 'else',\n",
              " 'except',\n",
              " 'finally',\n",
              " 'for',\n",
              " 'from',\n",
              " 'global',\n",
              " 'if',\n",
              " 'import',\n",
              " 'in',\n",
              " 'is',\n",
              " 'lambda',\n",
              " 'nonlocal',\n",
              " 'not',\n",
              " 'or',\n",
              " 'pass',\n",
              " 'raise',\n",
              " 'return',\n",
              " 'try',\n",
              " 'while',\n",
              " 'with',\n",
              " 'yield']"
            ]
          },
          "metadata": {},
          "execution_count": 22
        }
      ],
      "source": [
        "keyword.kwlist"
      ]
    },
    {
      "cell_type": "code",
      "execution_count": 23,
      "metadata": {
        "colab": {
          "base_uri": "https://localhost:8080/"
        },
        "id": "6hA1jlnUb9hD",
        "outputId": "14e4732f-dbda-441d-d381-3187657fa3cb"
      },
      "outputs": [
        {
          "output_type": "execute_result",
          "data": {
            "text/plain": [
              "True"
            ]
          },
          "metadata": {},
          "execution_count": 23
        }
      ],
      "source": [
        "4 > 3"
      ]
    },
    {
      "cell_type": "code",
      "execution_count": 24,
      "metadata": {
        "colab": {
          "base_uri": "https://localhost:8080/"
        },
        "id": "_1VB-_NKb9hE",
        "outputId": "c50f6b57-f646-4052-f3a8-ecb323037b69"
      },
      "outputs": [
        {
          "output_type": "execute_result",
          "data": {
            "text/plain": [
              "bool"
            ]
          },
          "metadata": {},
          "execution_count": 24
        }
      ],
      "source": [
        "type(4 > 3)"
      ]
    },
    {
      "cell_type": "code",
      "execution_count": 25,
      "metadata": {
        "colab": {
          "base_uri": "https://localhost:8080/"
        },
        "id": "yJB0qXrPb9hE",
        "outputId": "f244cb3d-a622-45e3-a211-3911194ef842"
      },
      "outputs": [
        {
          "output_type": "execute_result",
          "data": {
            "text/plain": [
              "bool"
            ]
          },
          "metadata": {},
          "execution_count": 25
        }
      ],
      "source": [
        "type(False)"
      ]
    },
    {
      "cell_type": "code",
      "execution_count": 26,
      "metadata": {
        "colab": {
          "base_uri": "https://localhost:8080/"
        },
        "id": "89cqsnS4b9hE",
        "outputId": "5f0a895b-20bc-4490-987c-59d7693a0bb5"
      },
      "outputs": [
        {
          "output_type": "execute_result",
          "data": {
            "text/plain": [
              "True"
            ]
          },
          "metadata": {},
          "execution_count": 26
        }
      ],
      "source": [
        "4 >= 3"
      ]
    },
    {
      "cell_type": "code",
      "execution_count": 27,
      "metadata": {
        "colab": {
          "base_uri": "https://localhost:8080/"
        },
        "id": "-s2qL8Iob9hE",
        "outputId": "2e6bd093-df8a-43bb-b74b-6cdd15ec3839"
      },
      "outputs": [
        {
          "output_type": "execute_result",
          "data": {
            "text/plain": [
              "False"
            ]
          },
          "metadata": {},
          "execution_count": 27
        }
      ],
      "source": [
        "4 < 3"
      ]
    },
    {
      "cell_type": "code",
      "execution_count": 28,
      "metadata": {
        "colab": {
          "base_uri": "https://localhost:8080/"
        },
        "id": "VRJkHnA7b9hF",
        "outputId": "5c29de46-a6ef-4042-ecfd-4f67f56cbd44"
      },
      "outputs": [
        {
          "output_type": "execute_result",
          "data": {
            "text/plain": [
              "False"
            ]
          },
          "metadata": {},
          "execution_count": 28
        }
      ],
      "source": [
        "4 <= 3"
      ]
    },
    {
      "cell_type": "code",
      "execution_count": 29,
      "metadata": {
        "colab": {
          "base_uri": "https://localhost:8080/"
        },
        "id": "RS0kh13Rb9hF",
        "outputId": "eb7dc16c-f8b1-43ff-b9fa-0482e0b071c3"
      },
      "outputs": [
        {
          "output_type": "execute_result",
          "data": {
            "text/plain": [
              "False"
            ]
          },
          "metadata": {},
          "execution_count": 29
        }
      ],
      "source": [
        "4 == 3"
      ]
    },
    {
      "cell_type": "code",
      "execution_count": 30,
      "metadata": {
        "colab": {
          "base_uri": "https://localhost:8080/"
        },
        "id": "QUhT5cFJb9hF",
        "outputId": "edabd7c7-9cfd-449a-eb77-cd1412853a2c"
      },
      "outputs": [
        {
          "output_type": "execute_result",
          "data": {
            "text/plain": [
              "True"
            ]
          },
          "metadata": {},
          "execution_count": 30
        }
      ],
      "source": [
        "4 != 3"
      ]
    },
    {
      "cell_type": "code",
      "execution_count": 31,
      "metadata": {
        "colab": {
          "base_uri": "https://localhost:8080/"
        },
        "id": "ha9SZdZBb9hW",
        "outputId": "92cff55d-7d0a-4d88-b187-bb29c174d2ec"
      },
      "outputs": [
        {
          "output_type": "execute_result",
          "data": {
            "text/plain": [
              "True"
            ]
          },
          "metadata": {},
          "execution_count": 31
        }
      ],
      "source": [
        "True and True"
      ]
    },
    {
      "cell_type": "code",
      "execution_count": 32,
      "metadata": {
        "colab": {
          "base_uri": "https://localhost:8080/"
        },
        "id": "Q3uJKPuwb9hW",
        "outputId": "b03405ae-a77f-4b1d-f630-18340723a461"
      },
      "outputs": [
        {
          "output_type": "execute_result",
          "data": {
            "text/plain": [
              "False"
            ]
          },
          "metadata": {},
          "execution_count": 32
        }
      ],
      "source": [
        "True and False"
      ]
    },
    {
      "cell_type": "code",
      "execution_count": 33,
      "metadata": {
        "colab": {
          "base_uri": "https://localhost:8080/"
        },
        "id": "gt_6CwKSb9hW",
        "outputId": "58b6a62e-8497-4472-ff50-80aa3f1c487f"
      },
      "outputs": [
        {
          "output_type": "execute_result",
          "data": {
            "text/plain": [
              "False"
            ]
          },
          "metadata": {},
          "execution_count": 33
        }
      ],
      "source": [
        "False and False"
      ]
    },
    {
      "cell_type": "code",
      "execution_count": 34,
      "metadata": {
        "colab": {
          "base_uri": "https://localhost:8080/"
        },
        "id": "ewzB1K2Ob9hX",
        "outputId": "050e48d1-38fc-4a0c-f907-fe7d98071cce"
      },
      "outputs": [
        {
          "output_type": "execute_result",
          "data": {
            "text/plain": [
              "True"
            ]
          },
          "metadata": {},
          "execution_count": 34
        }
      ],
      "source": [
        "True or True"
      ]
    },
    {
      "cell_type": "code",
      "execution_count": 35,
      "metadata": {
        "colab": {
          "base_uri": "https://localhost:8080/"
        },
        "id": "9U9-6DE0b9hX",
        "outputId": "1c47ab85-482a-4d51-8da2-80d387b71633"
      },
      "outputs": [
        {
          "output_type": "execute_result",
          "data": {
            "text/plain": [
              "True"
            ]
          },
          "metadata": {},
          "execution_count": 35
        }
      ],
      "source": [
        "True or False"
      ]
    },
    {
      "cell_type": "code",
      "execution_count": 36,
      "metadata": {
        "colab": {
          "base_uri": "https://localhost:8080/"
        },
        "id": "Lxrj7ec7b9hX",
        "outputId": "4dc5119b-ddf5-4f71-cdbf-1304f989ec12"
      },
      "outputs": [
        {
          "output_type": "execute_result",
          "data": {
            "text/plain": [
              "False"
            ]
          },
          "metadata": {},
          "execution_count": 36
        }
      ],
      "source": [
        "False or False"
      ]
    },
    {
      "cell_type": "code",
      "execution_count": 37,
      "metadata": {
        "colab": {
          "base_uri": "https://localhost:8080/"
        },
        "id": "HYxHqktmb9hX",
        "outputId": "35baac57-ac3d-46e2-a873-0502d38c9f26"
      },
      "outputs": [
        {
          "output_type": "execute_result",
          "data": {
            "text/plain": [
              "False"
            ]
          },
          "metadata": {},
          "execution_count": 37
        }
      ],
      "source": [
        "not True"
      ]
    },
    {
      "cell_type": "code",
      "execution_count": 38,
      "metadata": {
        "colab": {
          "base_uri": "https://localhost:8080/"
        },
        "id": "RV8R10Wbb9hY",
        "outputId": "b2c5d5e4-f5a5-4977-85fc-f8153c499052"
      },
      "outputs": [
        {
          "output_type": "execute_result",
          "data": {
            "text/plain": [
              "True"
            ]
          },
          "metadata": {},
          "execution_count": 38
        }
      ],
      "source": [
        "not False"
      ]
    },
    {
      "cell_type": "code",
      "execution_count": 39,
      "metadata": {
        "colab": {
          "base_uri": "https://localhost:8080/"
        },
        "id": "Z9bpkeXyb9hY",
        "outputId": "a7bc499b-9707-4ea5-9037-3b8f2a074391"
      },
      "outputs": [
        {
          "output_type": "execute_result",
          "data": {
            "text/plain": [
              "False"
            ]
          },
          "metadata": {},
          "execution_count": 39
        }
      ],
      "source": [
        "(4 > 3) and (2 > 3)"
      ]
    },
    {
      "cell_type": "code",
      "execution_count": 40,
      "metadata": {
        "colab": {
          "base_uri": "https://localhost:8080/"
        },
        "id": "wU5M788ub9hY",
        "outputId": "ec74ed98-54aa-477b-f1c5-bd786fecef96"
      },
      "outputs": [
        {
          "output_type": "execute_result",
          "data": {
            "text/plain": [
              "True"
            ]
          },
          "metadata": {},
          "execution_count": 40
        }
      ],
      "source": [
        "(4 == 3) or (2 != 3)"
      ]
    },
    {
      "cell_type": "code",
      "execution_count": 41,
      "metadata": {
        "colab": {
          "base_uri": "https://localhost:8080/"
        },
        "id": "34rDh0qtb9hZ",
        "outputId": "fb04605e-b8a5-4a96-9908-50ce8b339442"
      },
      "outputs": [
        {
          "output_type": "execute_result",
          "data": {
            "text/plain": [
              "True"
            ]
          },
          "metadata": {},
          "execution_count": 41
        }
      ],
      "source": [
        "not (4 != 4)"
      ]
    },
    {
      "cell_type": "code",
      "execution_count": 42,
      "metadata": {
        "colab": {
          "base_uri": "https://localhost:8080/"
        },
        "id": "Z-mV7tCcb9hZ",
        "outputId": "7e1a38b8-1608-47d8-c842-93818fb59ba6"
      },
      "outputs": [
        {
          "output_type": "execute_result",
          "data": {
            "text/plain": [
              "False"
            ]
          },
          "metadata": {},
          "execution_count": 42
        }
      ],
      "source": [
        "(not (4 != 4)) and (2 == 3)"
      ]
    },
    {
      "cell_type": "code",
      "execution_count": 43,
      "metadata": {
        "colab": {
          "base_uri": "https://localhost:8080/"
        },
        "id": "zir74hUgb9hZ",
        "outputId": "ff31b0b6-4bf1-4a73-d580-99c9b25c4309"
      },
      "outputs": [
        {
          "output_type": "stream",
          "name": "stdout",
          "text": [
            "condition true\n"
          ]
        }
      ],
      "source": [
        "if 4 > 3:\n",
        "    print('condition true')"
      ]
    },
    {
      "cell_type": "code",
      "execution_count": 44,
      "metadata": {
        "colab": {
          "base_uri": "https://localhost:8080/"
        },
        "id": "12Nz3mkob9hZ",
        "outputId": "6912fcd2-451e-402d-e3eb-4a2f941fde06"
      },
      "outputs": [
        {
          "output_type": "stream",
          "name": "stdout",
          "text": [
            "condition true, i =  0\n",
            "condition true, i =  1\n",
            "condition true, i =  2\n",
            "condition true, i =  3\n"
          ]
        }
      ],
      "source": [
        "i = 0\n",
        "while i < 4:\n",
        "    print('condition true, i = ', i)\n",
        "    i += 1"
      ]
    },
    {
      "cell_type": "code",
      "execution_count": 45,
      "metadata": {
        "colab": {
          "base_uri": "https://localhost:8080/"
        },
        "id": "dh-wpZxYb9ha",
        "outputId": "298852f2-cfe3-45e2-bd64-a9ee23a51895"
      },
      "outputs": [
        {
          "output_type": "execute_result",
          "data": {
            "text/plain": [
              "1"
            ]
          },
          "metadata": {},
          "execution_count": 45
        }
      ],
      "source": [
        "int(True)"
      ]
    },
    {
      "cell_type": "code",
      "execution_count": 46,
      "metadata": {
        "colab": {
          "base_uri": "https://localhost:8080/"
        },
        "id": "gWoZPYsIb9ha",
        "outputId": "b53f704c-6d9e-4b6c-a87b-570c085a8353"
      },
      "outputs": [
        {
          "output_type": "execute_result",
          "data": {
            "text/plain": [
              "0"
            ]
          },
          "metadata": {},
          "execution_count": 46
        }
      ],
      "source": [
        "int(False)"
      ]
    },
    {
      "cell_type": "code",
      "execution_count": 47,
      "metadata": {
        "colab": {
          "base_uri": "https://localhost:8080/"
        },
        "id": "x7SLFohbb9ha",
        "outputId": "9a42f585-82c0-4280-c2db-5759fdd295eb"
      },
      "outputs": [
        {
          "output_type": "execute_result",
          "data": {
            "text/plain": [
              "1.0"
            ]
          },
          "metadata": {},
          "execution_count": 47
        }
      ],
      "source": [
        "float(True)"
      ]
    },
    {
      "cell_type": "code",
      "execution_count": 48,
      "metadata": {
        "colab": {
          "base_uri": "https://localhost:8080/"
        },
        "id": "kxokMi7Eb9ha",
        "outputId": "46eeeda6-97ac-48cf-9439-2960a1633158"
      },
      "outputs": [
        {
          "output_type": "execute_result",
          "data": {
            "text/plain": [
              "0.0"
            ]
          },
          "metadata": {},
          "execution_count": 48
        }
      ],
      "source": [
        "float(False)"
      ]
    },
    {
      "cell_type": "code",
      "execution_count": 49,
      "metadata": {
        "colab": {
          "base_uri": "https://localhost:8080/"
        },
        "id": "ld7y3T76b9ha",
        "outputId": "a8aab0ae-0f14-40a2-c83c-3b1cbb2d4c2b"
      },
      "outputs": [
        {
          "output_type": "execute_result",
          "data": {
            "text/plain": [
              "False"
            ]
          },
          "metadata": {},
          "execution_count": 49
        }
      ],
      "source": [
        "bool(0)"
      ]
    },
    {
      "cell_type": "code",
      "execution_count": 50,
      "metadata": {
        "colab": {
          "base_uri": "https://localhost:8080/"
        },
        "id": "Hm1ijRhJb9hb",
        "outputId": "9aa9ea24-5bf4-4183-e02d-29b02457ef43"
      },
      "outputs": [
        {
          "output_type": "execute_result",
          "data": {
            "text/plain": [
              "False"
            ]
          },
          "metadata": {},
          "execution_count": 50
        }
      ],
      "source": [
        "bool(0.0)"
      ]
    },
    {
      "cell_type": "code",
      "execution_count": 51,
      "metadata": {
        "colab": {
          "base_uri": "https://localhost:8080/"
        },
        "id": "vKp-O8bib9hb",
        "outputId": "117b677a-0195-492e-912c-f66ac4d3efa6"
      },
      "outputs": [
        {
          "output_type": "execute_result",
          "data": {
            "text/plain": [
              "True"
            ]
          },
          "metadata": {},
          "execution_count": 51
        }
      ],
      "source": [
        "bool(1)"
      ]
    },
    {
      "cell_type": "code",
      "execution_count": 52,
      "metadata": {
        "colab": {
          "base_uri": "https://localhost:8080/"
        },
        "id": "eP0KxNLIb9hb",
        "outputId": "ab0a553d-4c0f-4070-b124-d403ffbc7a35"
      },
      "outputs": [
        {
          "output_type": "execute_result",
          "data": {
            "text/plain": [
              "True"
            ]
          },
          "metadata": {},
          "execution_count": 52
        }
      ],
      "source": [
        "bool(10.5)"
      ]
    },
    {
      "cell_type": "code",
      "execution_count": 53,
      "metadata": {
        "colab": {
          "base_uri": "https://localhost:8080/"
        },
        "id": "E1gySkycb9hb",
        "outputId": "826b4bed-93d9-4b11-d4a3-9eee51ea5b7e"
      },
      "outputs": [
        {
          "output_type": "execute_result",
          "data": {
            "text/plain": [
              "True"
            ]
          },
          "metadata": {},
          "execution_count": 53
        }
      ],
      "source": [
        "bool(-2)"
      ]
    },
    {
      "cell_type": "markdown",
      "metadata": {
        "id": "DbkjuedPb9hc"
      },
      "source": [
        "### Strings"
      ]
    },
    {
      "cell_type": "code",
      "execution_count": 54,
      "metadata": {
        "uuid": "01840910-c872-4f80-8e26-37d537aae1c5",
        "id": "6qEhWQxNb9hc"
      },
      "outputs": [],
      "source": [
        "t = 'this is a string object'"
      ]
    },
    {
      "cell_type": "code",
      "execution_count": 55,
      "metadata": {
        "uuid": "d961e3c3-59ca-4e85-949d-553727b39477",
        "colab": {
          "base_uri": "https://localhost:8080/",
          "height": 36
        },
        "id": "fFmLj_Bbb9hc",
        "outputId": "d137a6b7-2936-4544-ca79-f0bef9db3061"
      },
      "outputs": [
        {
          "output_type": "execute_result",
          "data": {
            "text/plain": [
              "'This is a string object'"
            ],
            "application/vnd.google.colaboratory.intrinsic+json": {
              "type": "string"
            }
          },
          "metadata": {},
          "execution_count": 55
        }
      ],
      "source": [
        "t.capitalize()"
      ]
    },
    {
      "cell_type": "code",
      "execution_count": 56,
      "metadata": {
        "uuid": "443fd868-860a-4ea7-a26c-85ad658a2fb7",
        "colab": {
          "base_uri": "https://localhost:8080/"
        },
        "id": "yUGJMvdWb9hc",
        "outputId": "d5302210-dcfb-4371-c4f5-d82368d264b6"
      },
      "outputs": [
        {
          "output_type": "execute_result",
          "data": {
            "text/plain": [
              "['this', 'is', 'a', 'string', 'object']"
            ]
          },
          "metadata": {},
          "execution_count": 56
        }
      ],
      "source": [
        "t.split()"
      ]
    },
    {
      "cell_type": "code",
      "execution_count": 57,
      "metadata": {
        "uuid": "7ba8fdc2-a567-42a8-b363-847be15d5073",
        "colab": {
          "base_uri": "https://localhost:8080/"
        },
        "id": "bwruXG07b9hc",
        "outputId": "18b55c5f-bbcc-4633-d49f-7eb4ea2303bd"
      },
      "outputs": [
        {
          "output_type": "execute_result",
          "data": {
            "text/plain": [
              "10"
            ]
          },
          "metadata": {},
          "execution_count": 57
        }
      ],
      "source": [
        "t.find('string')"
      ]
    },
    {
      "cell_type": "code",
      "execution_count": 58,
      "metadata": {
        "uuid": "8cc71c8c-e447-4272-8b82-74da5f504404",
        "colab": {
          "base_uri": "https://localhost:8080/"
        },
        "id": "KTQ4tPwUb9hd",
        "outputId": "6d23574d-200a-475d-bfc5-a04eb180e3ff"
      },
      "outputs": [
        {
          "output_type": "execute_result",
          "data": {
            "text/plain": [
              "-1"
            ]
          },
          "metadata": {},
          "execution_count": 58
        }
      ],
      "source": [
        "t.find('Python')"
      ]
    },
    {
      "cell_type": "code",
      "execution_count": 60,
      "metadata": {
        "uuid": "ce57da4c-b95a-417f-a8bd-44f81b28d162",
        "colab": {
          "base_uri": "https://localhost:8080/",
          "height": 36
        },
        "id": "XLlHrq-Jb9hd",
        "outputId": "569146ca-99bb-493c-edd6-ec839bdd1328"
      },
      "outputs": [
        {
          "output_type": "execute_result",
          "data": {
            "text/plain": [
              "'this|is|a|string|object'"
            ],
            "application/vnd.google.colaboratory.intrinsic+json": {
              "type": "string"
            }
          },
          "metadata": {},
          "execution_count": 60
        }
      ],
      "source": [
        "t.replace(' ', '|')"
      ]
    },
    {
      "cell_type": "code",
      "execution_count": 61,
      "metadata": {
        "uuid": "4a115a34-774e-4544-95eb-95e9ebec36ea",
        "colab": {
          "base_uri": "https://localhost:8080/",
          "height": 36
        },
        "id": "et4lBSO1b9hd",
        "outputId": "fe9bd4a1-d77e-452c-b566-deb1b9562e79"
      },
      "outputs": [
        {
          "output_type": "execute_result",
          "data": {
            "text/plain": [
              "'www.python.org'"
            ],
            "application/vnd.google.colaboratory.intrinsic+json": {
              "type": "string"
            }
          },
          "metadata": {},
          "execution_count": 61
        }
      ],
      "source": [
        "'http://www.python.org'.strip('htp:/')"
      ]
    },
    {
      "cell_type": "markdown",
      "metadata": {
        "id": "B2XWTETZb9hd"
      },
      "source": [
        "### Excursion: Printing and String Replacements"
      ]
    },
    {
      "cell_type": "code",
      "execution_count": 62,
      "metadata": {
        "colab": {
          "base_uri": "https://localhost:8080/"
        },
        "id": "onkG7Zfab9he",
        "outputId": "0e7b8788-f559-46f3-b787-1ce7e2c9f585"
      },
      "outputs": [
        {
          "output_type": "stream",
          "name": "stdout",
          "text": [
            "Python for Finance\n"
          ]
        }
      ],
      "source": [
        "print('Python for Finance')"
      ]
    },
    {
      "cell_type": "code",
      "execution_count": 63,
      "metadata": {
        "colab": {
          "base_uri": "https://localhost:8080/"
        },
        "id": "aq4YtRCCb9he",
        "outputId": "ca51ae9a-66ed-4469-ce45-65a815f56244"
      },
      "outputs": [
        {
          "output_type": "stream",
          "name": "stdout",
          "text": [
            "this is a string object\n"
          ]
        }
      ],
      "source": [
        "print(t)"
      ]
    },
    {
      "cell_type": "code",
      "execution_count": 64,
      "metadata": {
        "colab": {
          "base_uri": "https://localhost:8080/"
        },
        "id": "qNQl6I7vb9he",
        "outputId": "067d6ccc-63fc-4c94-82c4-bff8b68a13c9"
      },
      "outputs": [
        {
          "output_type": "stream",
          "name": "stdout",
          "text": [
            "0\n",
            "1\n",
            "2\n",
            "3\n"
          ]
        }
      ],
      "source": [
        "i = 0\n",
        "while i < 4:\n",
        "    print(i)\n",
        "    i += 1"
      ]
    },
    {
      "cell_type": "code",
      "execution_count": 65,
      "metadata": {
        "colab": {
          "base_uri": "https://localhost:8080/"
        },
        "id": "iLeiFzOhb9he",
        "outputId": "42434717-407c-4170-b9c8-4ec8f0f84a78"
      },
      "outputs": [
        {
          "output_type": "stream",
          "name": "stdout",
          "text": [
            "0|1|2|3|"
          ]
        }
      ],
      "source": [
        "i = 0\n",
        "while i < 4:\n",
        "    print(i, end='|')\n",
        "    i += 1"
      ]
    },
    {
      "cell_type": "code",
      "execution_count": 66,
      "metadata": {
        "colab": {
          "base_uri": "https://localhost:8080/",
          "height": 36
        },
        "id": "WZwRyjYCb9hf",
        "outputId": "b28e9453-de2c-49eb-9d30-0227a54e74ba"
      },
      "outputs": [
        {
          "output_type": "execute_result",
          "data": {
            "text/plain": [
              "'this is an integer 15'"
            ],
            "application/vnd.google.colaboratory.intrinsic+json": {
              "type": "string"
            }
          },
          "metadata": {},
          "execution_count": 66
        }
      ],
      "source": [
        "'this is an integer %d' % 15"
      ]
    },
    {
      "cell_type": "code",
      "execution_count": 67,
      "metadata": {
        "colab": {
          "base_uri": "https://localhost:8080/",
          "height": 36
        },
        "id": "qAQashLub9hf",
        "outputId": "a345df29-3ed0-4222-a2bc-4e0f791b43c7"
      },
      "outputs": [
        {
          "output_type": "execute_result",
          "data": {
            "text/plain": [
              "'this is an integer   15'"
            ],
            "application/vnd.google.colaboratory.intrinsic+json": {
              "type": "string"
            }
          },
          "metadata": {},
          "execution_count": 67
        }
      ],
      "source": [
        "'this is an integer %4d' % 15"
      ]
    },
    {
      "cell_type": "code",
      "execution_count": 68,
      "metadata": {
        "colab": {
          "base_uri": "https://localhost:8080/",
          "height": 36
        },
        "id": "rGZa4B24b9hf",
        "outputId": "d6488222-0654-4b0f-8fc0-617601e58e8f"
      },
      "outputs": [
        {
          "output_type": "execute_result",
          "data": {
            "text/plain": [
              "'this is an integer 0015'"
            ],
            "application/vnd.google.colaboratory.intrinsic+json": {
              "type": "string"
            }
          },
          "metadata": {},
          "execution_count": 68
        }
      ],
      "source": [
        "'this is an integer %04d' % 15"
      ]
    },
    {
      "cell_type": "code",
      "execution_count": 69,
      "metadata": {
        "colab": {
          "base_uri": "https://localhost:8080/",
          "height": 36
        },
        "id": "BY2wG37vb9hf",
        "outputId": "7d72de1d-ba2b-485c-9ab3-3ebdc2fd0d19"
      },
      "outputs": [
        {
          "output_type": "execute_result",
          "data": {
            "text/plain": [
              "'this is a float 15.345600'"
            ],
            "application/vnd.google.colaboratory.intrinsic+json": {
              "type": "string"
            }
          },
          "metadata": {},
          "execution_count": 69
        }
      ],
      "source": [
        "'this is a float %f' % 15.3456"
      ]
    },
    {
      "cell_type": "code",
      "execution_count": 70,
      "metadata": {
        "colab": {
          "base_uri": "https://localhost:8080/",
          "height": 36
        },
        "id": "lE-Tk4E4b9hf",
        "outputId": "09b5b1e1-e62b-466a-f5ca-eb92afbabc8a"
      },
      "outputs": [
        {
          "output_type": "execute_result",
          "data": {
            "text/plain": [
              "'this is a float 15.35'"
            ],
            "application/vnd.google.colaboratory.intrinsic+json": {
              "type": "string"
            }
          },
          "metadata": {},
          "execution_count": 70
        }
      ],
      "source": [
        "'this is a float %.2f' % 15.3456"
      ]
    },
    {
      "cell_type": "code",
      "execution_count": 71,
      "metadata": {
        "colab": {
          "base_uri": "https://localhost:8080/",
          "height": 36
        },
        "id": "UW9AMJ8hb9hg",
        "outputId": "bd8df199-a4d6-42a3-f567-b0eee9d10c7f"
      },
      "outputs": [
        {
          "output_type": "execute_result",
          "data": {
            "text/plain": [
              "'this is a float 15.345600'"
            ],
            "application/vnd.google.colaboratory.intrinsic+json": {
              "type": "string"
            }
          },
          "metadata": {},
          "execution_count": 71
        }
      ],
      "source": [
        "'this is a float %8f' % 15.3456"
      ]
    },
    {
      "cell_type": "code",
      "execution_count": 72,
      "metadata": {
        "colab": {
          "base_uri": "https://localhost:8080/",
          "height": 36
        },
        "id": "EkKnDZsQb9hg",
        "outputId": "689ed185-b4e8-45f9-8db3-f44785965c92"
      },
      "outputs": [
        {
          "output_type": "execute_result",
          "data": {
            "text/plain": [
              "'this is a float    15.35'"
            ],
            "application/vnd.google.colaboratory.intrinsic+json": {
              "type": "string"
            }
          },
          "metadata": {},
          "execution_count": 72
        }
      ],
      "source": [
        "'this is a float %8.2f' % 15.3456"
      ]
    },
    {
      "cell_type": "code",
      "execution_count": 73,
      "metadata": {
        "colab": {
          "base_uri": "https://localhost:8080/",
          "height": 36
        },
        "id": "WTARN-Thb9hg",
        "outputId": "9b132d11-28a3-49db-cd52-84abb859637d"
      },
      "outputs": [
        {
          "output_type": "execute_result",
          "data": {
            "text/plain": [
              "'this is a float 00015.35'"
            ],
            "application/vnd.google.colaboratory.intrinsic+json": {
              "type": "string"
            }
          },
          "metadata": {},
          "execution_count": 73
        }
      ],
      "source": [
        "'this is a float %08.2f' % 15.3456"
      ]
    },
    {
      "cell_type": "code",
      "execution_count": 74,
      "metadata": {
        "colab": {
          "base_uri": "https://localhost:8080/",
          "height": 36
        },
        "id": "OVUCwzOcb9hh",
        "outputId": "ea2e7320-cfdc-45a3-fefe-8107a396b19a"
      },
      "outputs": [
        {
          "output_type": "execute_result",
          "data": {
            "text/plain": [
              "'this is a string Python'"
            ],
            "application/vnd.google.colaboratory.intrinsic+json": {
              "type": "string"
            }
          },
          "metadata": {},
          "execution_count": 74
        }
      ],
      "source": [
        "'this is a string %s' % 'Python'"
      ]
    },
    {
      "cell_type": "code",
      "execution_count": 75,
      "metadata": {
        "colab": {
          "base_uri": "https://localhost:8080/",
          "height": 36
        },
        "id": "sNwNM6Mib9hh",
        "outputId": "26b3c0da-c42d-4053-8ed6-394339f28aef"
      },
      "outputs": [
        {
          "output_type": "execute_result",
          "data": {
            "text/plain": [
              "'this is a string     Python'"
            ],
            "application/vnd.google.colaboratory.intrinsic+json": {
              "type": "string"
            }
          },
          "metadata": {},
          "execution_count": 75
        }
      ],
      "source": [
        "'this is a string %10s' % 'Python'"
      ]
    },
    {
      "cell_type": "code",
      "execution_count": 76,
      "metadata": {
        "colab": {
          "base_uri": "https://localhost:8080/",
          "height": 36
        },
        "id": "9GZ4E7kjb9hh",
        "outputId": "de2e7d72-fb97-4a8f-aac4-165c99d7c10a"
      },
      "outputs": [
        {
          "output_type": "execute_result",
          "data": {
            "text/plain": [
              "'this is an integer 15'"
            ],
            "application/vnd.google.colaboratory.intrinsic+json": {
              "type": "string"
            }
          },
          "metadata": {},
          "execution_count": 76
        }
      ],
      "source": [
        "'this is an integer {:d}'.format(15)"
      ]
    },
    {
      "cell_type": "code",
      "execution_count": 77,
      "metadata": {
        "colab": {
          "base_uri": "https://localhost:8080/",
          "height": 36
        },
        "id": "ly_3ZjLub9hh",
        "outputId": "20b59b51-e3a2-456e-8af2-2ed57b885309"
      },
      "outputs": [
        {
          "output_type": "execute_result",
          "data": {
            "text/plain": [
              "'this is an integer   15'"
            ],
            "application/vnd.google.colaboratory.intrinsic+json": {
              "type": "string"
            }
          },
          "metadata": {},
          "execution_count": 77
        }
      ],
      "source": [
        "'this is an integer {:4d}'.format(15)"
      ]
    },
    {
      "cell_type": "code",
      "execution_count": 78,
      "metadata": {
        "colab": {
          "base_uri": "https://localhost:8080/",
          "height": 36
        },
        "id": "xY8d4nClb9hi",
        "outputId": "32dcd973-33d4-4cd5-cfe5-ecfacf746bd3"
      },
      "outputs": [
        {
          "output_type": "execute_result",
          "data": {
            "text/plain": [
              "'this is an integer 0015'"
            ],
            "application/vnd.google.colaboratory.intrinsic+json": {
              "type": "string"
            }
          },
          "metadata": {},
          "execution_count": 78
        }
      ],
      "source": [
        "'this is an integer {:04d}'.format(15)"
      ]
    },
    {
      "cell_type": "code",
      "execution_count": 79,
      "metadata": {
        "colab": {
          "base_uri": "https://localhost:8080/",
          "height": 36
        },
        "id": "-GRsNxvLb9hi",
        "outputId": "971b5211-6cad-4596-c7bf-4691c793fd2a"
      },
      "outputs": [
        {
          "output_type": "execute_result",
          "data": {
            "text/plain": [
              "'this is a float 15.345600'"
            ],
            "application/vnd.google.colaboratory.intrinsic+json": {
              "type": "string"
            }
          },
          "metadata": {},
          "execution_count": 79
        }
      ],
      "source": [
        "'this is a float {:f}'.format(15.3456)"
      ]
    },
    {
      "cell_type": "code",
      "execution_count": 80,
      "metadata": {
        "colab": {
          "base_uri": "https://localhost:8080/",
          "height": 36
        },
        "id": "ziupUK2hb9hi",
        "outputId": "b91c4380-1eb3-461f-b6ec-876402e6143c"
      },
      "outputs": [
        {
          "output_type": "execute_result",
          "data": {
            "text/plain": [
              "'this is a float 15.35'"
            ],
            "application/vnd.google.colaboratory.intrinsic+json": {
              "type": "string"
            }
          },
          "metadata": {},
          "execution_count": 80
        }
      ],
      "source": [
        "'this is a float {:.2f}'.format(15.3456)"
      ]
    },
    {
      "cell_type": "code",
      "execution_count": 81,
      "metadata": {
        "colab": {
          "base_uri": "https://localhost:8080/",
          "height": 36
        },
        "id": "8An2DGk1b9hj",
        "outputId": "ff237c51-170c-43ea-b5de-d6e11979d5b7"
      },
      "outputs": [
        {
          "output_type": "execute_result",
          "data": {
            "text/plain": [
              "'this is a float 15.345600'"
            ],
            "application/vnd.google.colaboratory.intrinsic+json": {
              "type": "string"
            }
          },
          "metadata": {},
          "execution_count": 81
        }
      ],
      "source": [
        "'this is a float {:8f}'.format(15.3456)"
      ]
    },
    {
      "cell_type": "code",
      "execution_count": 82,
      "metadata": {
        "colab": {
          "base_uri": "https://localhost:8080/",
          "height": 36
        },
        "id": "LA-Rz44Xb9hj",
        "outputId": "2c1652d4-bbdc-4ecd-ce30-466e808895af"
      },
      "outputs": [
        {
          "output_type": "execute_result",
          "data": {
            "text/plain": [
              "'this is a float    15.35'"
            ],
            "application/vnd.google.colaboratory.intrinsic+json": {
              "type": "string"
            }
          },
          "metadata": {},
          "execution_count": 82
        }
      ],
      "source": [
        "'this is a float {:8.2f}'.format(15.3456)"
      ]
    },
    {
      "cell_type": "code",
      "execution_count": 83,
      "metadata": {
        "colab": {
          "base_uri": "https://localhost:8080/",
          "height": 36
        },
        "id": "tvjazKJgb9hj",
        "outputId": "f5fc3d57-39a2-4a33-cf58-6e180cded894"
      },
      "outputs": [
        {
          "output_type": "execute_result",
          "data": {
            "text/plain": [
              "'this is a float 00015.35'"
            ],
            "application/vnd.google.colaboratory.intrinsic+json": {
              "type": "string"
            }
          },
          "metadata": {},
          "execution_count": 83
        }
      ],
      "source": [
        "'this is a float {:08.2f}'.format(15.3456)"
      ]
    },
    {
      "cell_type": "code",
      "execution_count": 84,
      "metadata": {
        "colab": {
          "base_uri": "https://localhost:8080/",
          "height": 36
        },
        "id": "ZYgThjdtb9hk",
        "outputId": "78c81c2c-cf78-4941-cd36-69cc58161af1"
      },
      "outputs": [
        {
          "output_type": "execute_result",
          "data": {
            "text/plain": [
              "'this is a string Python'"
            ],
            "application/vnd.google.colaboratory.intrinsic+json": {
              "type": "string"
            }
          },
          "metadata": {},
          "execution_count": 84
        }
      ],
      "source": [
        "'this is a string {:s}'.format('Python')"
      ]
    },
    {
      "cell_type": "code",
      "execution_count": 85,
      "metadata": {
        "colab": {
          "base_uri": "https://localhost:8080/",
          "height": 36
        },
        "id": "NLl-SbfJb9hk",
        "outputId": "95e2716c-18c5-4fa9-819e-f019a61c0aa5"
      },
      "outputs": [
        {
          "output_type": "execute_result",
          "data": {
            "text/plain": [
              "'this is a string Python    '"
            ],
            "application/vnd.google.colaboratory.intrinsic+json": {
              "type": "string"
            }
          },
          "metadata": {},
          "execution_count": 85
        }
      ],
      "source": [
        "'this is a string {:10s}'.format('Python')"
      ]
    },
    {
      "cell_type": "code",
      "execution_count": 86,
      "metadata": {
        "colab": {
          "base_uri": "https://localhost:8080/"
        },
        "id": "l34PlCCyb9hk",
        "outputId": "4841c74f-2137-43d5-c99f-db85e2ff5b77"
      },
      "outputs": [
        {
          "output_type": "stream",
          "name": "stdout",
          "text": [
            "the number is 0\n",
            "the number is 1\n",
            "the number is 2\n",
            "the number is 3\n"
          ]
        }
      ],
      "source": [
        "i = 0\n",
        "while i < 4:\n",
        "    print('the number is %d' % i)\n",
        "    i += 1"
      ]
    },
    {
      "cell_type": "code",
      "execution_count": 87,
      "metadata": {
        "colab": {
          "base_uri": "https://localhost:8080/"
        },
        "id": "bKHJjh9pb9hk",
        "outputId": "73d67e4b-e8bf-41d7-923f-a5e88afcc32e"
      },
      "outputs": [
        {
          "output_type": "stream",
          "name": "stdout",
          "text": [
            "the number is 0\n",
            "the number is 1\n",
            "the number is 2\n",
            "the number is 3\n"
          ]
        }
      ],
      "source": [
        "i = 0\n",
        "while i < 4:\n",
        "    print('the number is {:d}'.format(i))\n",
        "    i += 1"
      ]
    },
    {
      "cell_type": "markdown",
      "metadata": {
        "id": "PQP3c7THb9hl"
      },
      "source": [
        "### Excursion: Regular Expressions"
      ]
    },
    {
      "cell_type": "code",
      "execution_count": 88,
      "metadata": {
        "uuid": "8295f915-ee30-44df-896a-539aa6e5287d",
        "id": "Rxb2HqKTb9hl"
      },
      "outputs": [],
      "source": [
        "import re"
      ]
    },
    {
      "cell_type": "code",
      "execution_count": 92,
      "metadata": {
        "uuid": "31a001d3-195c-42d3-823b-643eb2be3981",
        "id": "_THAqomyb9hl"
      },
      "outputs": [],
      "source": [
        "series = \"\"\"\n",
        "'01/18/2025 13:00:00', 100, '1st';\n",
        "'01/18/2025 13:30:00', 110, '2nd';\n",
        "'01/18/2025 14:00:00', 120, '3rd'\n",
        "\"\"\""
      ]
    },
    {
      "cell_type": "code",
      "execution_count": 93,
      "metadata": {
        "uuid": "b62df3db-51da-4bd5-8abe-f536296c756e",
        "id": "W7sU_echb9hl"
      },
      "outputs": [],
      "source": [
        "dt = re.compile(\"'[0-9/:\\s]+'\")  # datetime"
      ]
    },
    {
      "cell_type": "code",
      "execution_count": 94,
      "metadata": {
        "uuid": "02dd3264-3090-4607-a0d9-568d12093158",
        "colab": {
          "base_uri": "https://localhost:8080/"
        },
        "id": "Cx5KFg9Sb9hl",
        "outputId": "5ce23676-4739-43a6-8f62-83651c2f342c"
      },
      "outputs": [
        {
          "output_type": "execute_result",
          "data": {
            "text/plain": [
              "[\"'01/18/2025 13:00:00'\", \"'01/18/2025 13:30:00'\", \"'01/18/2025 14:00:00'\"]"
            ]
          },
          "metadata": {},
          "execution_count": 94
        }
      ],
      "source": [
        "result = dt.findall(series)\n",
        "result"
      ]
    },
    {
      "cell_type": "code",
      "execution_count": 95,
      "metadata": {
        "uuid": "ec54f07e-c507-437e-b5ec-6bd4f6d1e9f8",
        "colab": {
          "base_uri": "https://localhost:8080/"
        },
        "id": "gV7vhioqb9hl",
        "outputId": "56e6754c-c990-4973-ec44-bbb8f0444705"
      },
      "outputs": [
        {
          "output_type": "execute_result",
          "data": {
            "text/plain": [
              "datetime.datetime(2025, 1, 18, 13, 0)"
            ]
          },
          "metadata": {},
          "execution_count": 95
        }
      ],
      "source": [
        "from datetime import datetime\n",
        "pydt = datetime.strptime(result[0].replace(\"'\", \"\"),\n",
        "                         '%m/%d/%Y %H:%M:%S')\n",
        "pydt"
      ]
    },
    {
      "cell_type": "code",
      "execution_count": 96,
      "metadata": {
        "uuid": "28c72cd0-7efb-43b6-8dae-c48f034c154e",
        "colab": {
          "base_uri": "https://localhost:8080/"
        },
        "id": "7Mkhy-kfb9hm",
        "outputId": "3bb2caef-9c2e-4523-a39d-697358ea147e"
      },
      "outputs": [
        {
          "output_type": "stream",
          "name": "stdout",
          "text": [
            "2025-01-18 13:00:00\n"
          ]
        }
      ],
      "source": [
        "print(pydt)"
      ]
    },
    {
      "cell_type": "code",
      "execution_count": 97,
      "metadata": {
        "uuid": "d166e305-a9ab-4d28-ac04-ee6016035b88",
        "colab": {
          "base_uri": "https://localhost:8080/"
        },
        "id": "bp9r54HQb9hm",
        "outputId": "e68f11f2-7a1a-4ad8-8085-f58fb44e9576"
      },
      "outputs": [
        {
          "output_type": "stream",
          "name": "stdout",
          "text": [
            "<class 'datetime.datetime'>\n"
          ]
        }
      ],
      "source": [
        "print(type(pydt))"
      ]
    },
    {
      "cell_type": "markdown",
      "metadata": {
        "id": "P6fTqma-b9hm"
      },
      "source": [
        "## Basic Data Structures"
      ]
    },
    {
      "cell_type": "markdown",
      "metadata": {
        "id": "KemSK2b6b9hm"
      },
      "source": [
        "### Tuples"
      ]
    },
    {
      "cell_type": "code",
      "execution_count": 98,
      "metadata": {
        "uuid": "a84deee3-7f60-459a-bb91-d0cd9c8031aa",
        "colab": {
          "base_uri": "https://localhost:8080/"
        },
        "id": "NxJKUh0Wb9hm",
        "outputId": "e67f7a41-461e-4afa-ab2f-02e9f205440c"
      },
      "outputs": [
        {
          "output_type": "execute_result",
          "data": {
            "text/plain": [
              "tuple"
            ]
          },
          "metadata": {},
          "execution_count": 98
        }
      ],
      "source": [
        "t = (1, 2.5, 'data')\n",
        "type(t)"
      ]
    },
    {
      "cell_type": "code",
      "execution_count": 99,
      "metadata": {
        "uuid": "9c63a354-9fde-4ded-92f2-bb8ed08ea185",
        "colab": {
          "base_uri": "https://localhost:8080/"
        },
        "id": "_QsEnU1cb9hm",
        "outputId": "5b9c263c-2d44-4438-ca41-18b83d1740a9"
      },
      "outputs": [
        {
          "output_type": "execute_result",
          "data": {
            "text/plain": [
              "tuple"
            ]
          },
          "metadata": {},
          "execution_count": 99
        }
      ],
      "source": [
        "t = 1, 2.5, 'data'\n",
        "type(t)"
      ]
    },
    {
      "cell_type": "code",
      "execution_count": 100,
      "metadata": {
        "uuid": "0c6923a3-efab-4cb1-baf7-f31ce725f520",
        "colab": {
          "base_uri": "https://localhost:8080/",
          "height": 36
        },
        "id": "sbNP8DzUb9hn",
        "outputId": "5b9e0dd9-5066-49a2-fe91-1d5bba688ab1"
      },
      "outputs": [
        {
          "output_type": "execute_result",
          "data": {
            "text/plain": [
              "'data'"
            ],
            "application/vnd.google.colaboratory.intrinsic+json": {
              "type": "string"
            }
          },
          "metadata": {},
          "execution_count": 100
        }
      ],
      "source": [
        "t[2]"
      ]
    },
    {
      "cell_type": "code",
      "execution_count": 101,
      "metadata": {
        "uuid": "d36fef13-3878-4512-a458-9f5c2dda2cc6",
        "colab": {
          "base_uri": "https://localhost:8080/"
        },
        "id": "ep95nSJxb9hn",
        "outputId": "b72a1aea-e43d-4c4c-d018-97b82470b841"
      },
      "outputs": [
        {
          "output_type": "execute_result",
          "data": {
            "text/plain": [
              "str"
            ]
          },
          "metadata": {},
          "execution_count": 101
        }
      ],
      "source": [
        "type(t[2])"
      ]
    },
    {
      "cell_type": "code",
      "execution_count": 102,
      "metadata": {
        "uuid": "d306c24a-5ae0-4395-9fb7-27bf0bb3d1a5",
        "colab": {
          "base_uri": "https://localhost:8080/"
        },
        "id": "ePI5uctNb9hn",
        "outputId": "887ffff3-c24f-4a5f-a07f-318cf8beedda"
      },
      "outputs": [
        {
          "output_type": "execute_result",
          "data": {
            "text/plain": [
              "1"
            ]
          },
          "metadata": {},
          "execution_count": 102
        }
      ],
      "source": [
        "t.count('data')"
      ]
    },
    {
      "cell_type": "code",
      "execution_count": 103,
      "metadata": {
        "uuid": "10a2d29d-b83d-45bf-aa6b-7d7d028e0fcf",
        "colab": {
          "base_uri": "https://localhost:8080/"
        },
        "id": "Kf9myn3gb9hn",
        "outputId": "56913176-a420-478b-b0db-ec51c1eefe37"
      },
      "outputs": [
        {
          "output_type": "execute_result",
          "data": {
            "text/plain": [
              "0"
            ]
          },
          "metadata": {},
          "execution_count": 103
        }
      ],
      "source": [
        "t.index(1)"
      ]
    },
    {
      "cell_type": "markdown",
      "metadata": {
        "id": "JAIgnGO8b9hn"
      },
      "source": [
        "### Lists"
      ]
    },
    {
      "cell_type": "code",
      "execution_count": 104,
      "metadata": {
        "uuid": "434dd023-faaf-4b7f-953a-69ec45eec4aa",
        "colab": {
          "base_uri": "https://localhost:8080/",
          "height": 36
        },
        "id": "5JPFgr23b9ho",
        "outputId": "d857bc69-d489-40ec-c421-873513a9cda8"
      },
      "outputs": [
        {
          "output_type": "execute_result",
          "data": {
            "text/plain": [
              "'data'"
            ],
            "application/vnd.google.colaboratory.intrinsic+json": {
              "type": "string"
            }
          },
          "metadata": {},
          "execution_count": 104
        }
      ],
      "source": [
        "l = [1, 2.5, 'data']\n",
        "l[2]"
      ]
    },
    {
      "cell_type": "code",
      "execution_count": 105,
      "metadata": {
        "uuid": "51232410-3f94-4df5-b982-ffcb8438c437",
        "colab": {
          "base_uri": "https://localhost:8080/"
        },
        "id": "WWzakG3rb9ho",
        "outputId": "2a07bfb8-3e36-4878-bf3a-c9dd5efa2c4c"
      },
      "outputs": [
        {
          "output_type": "execute_result",
          "data": {
            "text/plain": [
              "[1, 2.5, 'data']"
            ]
          },
          "metadata": {},
          "execution_count": 105
        }
      ],
      "source": [
        "l = list(t)\n",
        "l"
      ]
    },
    {
      "cell_type": "code",
      "execution_count": 106,
      "metadata": {
        "uuid": "7fab351f-6bb8-492f-a4be-314dfab9d13b",
        "colab": {
          "base_uri": "https://localhost:8080/"
        },
        "id": "0ahJRHlLb9ho",
        "outputId": "d7e28e6d-4358-4984-a53d-bb1e473fde39"
      },
      "outputs": [
        {
          "output_type": "execute_result",
          "data": {
            "text/plain": [
              "list"
            ]
          },
          "metadata": {},
          "execution_count": 106
        }
      ],
      "source": [
        "type(l)"
      ]
    },
    {
      "cell_type": "code",
      "execution_count": 107,
      "metadata": {
        "uuid": "5f409ddb-67a5-42cc-949c-7b1cc7fb7489",
        "colab": {
          "base_uri": "https://localhost:8080/"
        },
        "id": "Bczyn23bb9ho",
        "outputId": "e68d54f3-6620-4bb0-c8d5-3c3ae91d8c7c"
      },
      "outputs": [
        {
          "output_type": "execute_result",
          "data": {
            "text/plain": [
              "[1, 2.5, 'data', [4, 3]]"
            ]
          },
          "metadata": {},
          "execution_count": 107
        }
      ],
      "source": [
        "l.append([4, 3])\n",
        "l"
      ]
    },
    {
      "cell_type": "code",
      "execution_count": 108,
      "metadata": {
        "uuid": "4e108298-4370-4371-9794-066aff49bfa3",
        "colab": {
          "base_uri": "https://localhost:8080/"
        },
        "id": "Updxtcw7b9ho",
        "outputId": "d0b71c2f-05a7-4747-98f3-3aef337fd906"
      },
      "outputs": [
        {
          "output_type": "execute_result",
          "data": {
            "text/plain": [
              "[1, 2.5, 'data', [4, 3], 1.0, 1.5, 2.0]"
            ]
          },
          "metadata": {},
          "execution_count": 108
        }
      ],
      "source": [
        "l.extend([1.0, 1.5, 2.0])\n",
        "l"
      ]
    },
    {
      "cell_type": "code",
      "execution_count": 109,
      "metadata": {
        "uuid": "9076e4d2-518a-4554-b400-ffc06918a11a",
        "colab": {
          "base_uri": "https://localhost:8080/"
        },
        "id": "-0pzHynUb9ho",
        "outputId": "88d97eeb-e693-43a0-c77f-d40f421aeb2b"
      },
      "outputs": [
        {
          "output_type": "execute_result",
          "data": {
            "text/plain": [
              "[1, 'insert', 2.5, 'data', [4, 3], 1.0, 1.5, 2.0]"
            ]
          },
          "metadata": {},
          "execution_count": 109
        }
      ],
      "source": [
        "l.insert(1, 'insert')\n",
        "l"
      ]
    },
    {
      "cell_type": "code",
      "execution_count": 110,
      "metadata": {
        "uuid": "7049a3a2-3d79-4584-bc57-3f91feb1e941",
        "colab": {
          "base_uri": "https://localhost:8080/"
        },
        "id": "ijivHOR4b9hp",
        "outputId": "29e36a59-9368-45ce-95b8-4d4832cd7ec7"
      },
      "outputs": [
        {
          "output_type": "execute_result",
          "data": {
            "text/plain": [
              "[1, 'insert', 2.5, [4, 3], 1.0, 1.5, 2.0]"
            ]
          },
          "metadata": {},
          "execution_count": 110
        }
      ],
      "source": [
        "l.remove('data')\n",
        "l"
      ]
    },
    {
      "cell_type": "code",
      "execution_count": 111,
      "metadata": {
        "uuid": "23bf5c19-5dc8-404a-bb5c-bda07c752d89",
        "colab": {
          "base_uri": "https://localhost:8080/"
        },
        "id": "vYFdfRFub9hp",
        "outputId": "bef0a7bd-e8a3-4a93-85a3-7990aa841054"
      },
      "outputs": [
        {
          "output_type": "stream",
          "name": "stdout",
          "text": [
            "[1, 'insert', 2.5, 1.0, 1.5, 2.0] [4, 3]\n"
          ]
        }
      ],
      "source": [
        "p = l.pop(3)\n",
        "print(l, p)"
      ]
    },
    {
      "cell_type": "code",
      "execution_count": 112,
      "metadata": {
        "uuid": "df15c54e-7500-40d8-9563-ecb305993e6b",
        "colab": {
          "base_uri": "https://localhost:8080/"
        },
        "id": "gpJxfcMmb9hp",
        "outputId": "86a2e6f8-f6d9-4023-cc08-0c7ff5dd6483"
      },
      "outputs": [
        {
          "output_type": "execute_result",
          "data": {
            "text/plain": [
              "[2.5, 1.0, 1.5]"
            ]
          },
          "metadata": {},
          "execution_count": 112
        }
      ],
      "source": [
        "l[2:5]"
      ]
    },
    {
      "cell_type": "markdown",
      "metadata": {
        "id": "XlhZUmHtb9hp"
      },
      "source": [
        "### Excursion: Control Structures"
      ]
    },
    {
      "cell_type": "code",
      "execution_count": 113,
      "metadata": {
        "uuid": "4661533f-3ff0-4699-a17b-cf061e860d8a",
        "colab": {
          "base_uri": "https://localhost:8080/"
        },
        "id": "2DUEdfVhb9hp",
        "outputId": "58165c30-0ad7-450b-fcb8-05bd4016426d"
      },
      "outputs": [
        {
          "output_type": "stream",
          "name": "stdout",
          "text": [
            "6.25\n",
            "1.0\n",
            "2.25\n"
          ]
        }
      ],
      "source": [
        "for element in l[2:5]:\n",
        "    print(element ** 2)"
      ]
    },
    {
      "cell_type": "code",
      "execution_count": 114,
      "metadata": {
        "uuid": "c5d97e03-6106-46a9-abb3-0c71cf0b7767",
        "colab": {
          "base_uri": "https://localhost:8080/"
        },
        "id": "FXw0ef4jb9hq",
        "outputId": "2667319b-558d-4733-8a9c-ba8cf4bc2855"
      },
      "outputs": [
        {
          "output_type": "execute_result",
          "data": {
            "text/plain": [
              "range(0, 8)"
            ]
          },
          "metadata": {},
          "execution_count": 114
        }
      ],
      "source": [
        "r = range(0, 8, 1)\n",
        "r"
      ]
    },
    {
      "cell_type": "code",
      "execution_count": 115,
      "metadata": {
        "uuid": "0ef58c5e-a1d8-438a-bf2f-db598b963187",
        "colab": {
          "base_uri": "https://localhost:8080/"
        },
        "id": "6-4F86NKb9hq",
        "outputId": "179e6e63-9a16-4512-eb9f-684829eb331e"
      },
      "outputs": [
        {
          "output_type": "execute_result",
          "data": {
            "text/plain": [
              "range"
            ]
          },
          "metadata": {},
          "execution_count": 115
        }
      ],
      "source": [
        "type(r)"
      ]
    },
    {
      "cell_type": "code",
      "execution_count": 116,
      "metadata": {
        "uuid": "c1621dce-d184-4331-bd1d-6b6008286c99",
        "colab": {
          "base_uri": "https://localhost:8080/"
        },
        "id": "g9P74iH8b9hq",
        "outputId": "6c2f1de8-df90-4ec5-d2d8-222356252238"
      },
      "outputs": [
        {
          "output_type": "stream",
          "name": "stdout",
          "text": [
            "6.25\n",
            "1.0\n",
            "2.25\n"
          ]
        }
      ],
      "source": [
        "for i in range(2, 5):\n",
        "    print(l[i] ** 2)"
      ]
    },
    {
      "cell_type": "code",
      "execution_count": 117,
      "metadata": {
        "uuid": "474dd7ff-5fdd-429c-a574-48d698919e98",
        "colab": {
          "base_uri": "https://localhost:8080/"
        },
        "id": "DmZsABVxb9hq",
        "outputId": "39a5ba60-200b-48f0-c8c2-26b505827e9e"
      },
      "outputs": [
        {
          "output_type": "stream",
          "name": "stdout",
          "text": [
            "1 is odd\n",
            "2 is even\n",
            "3 is multiple of 3\n",
            "4 is even\n",
            "5 is odd\n",
            "6 is even\n",
            "7 is odd\n",
            "8 is even\n",
            "9 is multiple of 3\n"
          ]
        }
      ],
      "source": [
        "for i in range(1, 10):\n",
        "    if i % 2 == 0:\n",
        "        print(\"%d is even\" % i)\n",
        "    elif i % 3 == 0:\n",
        "        print(\"%d is multiple of 3\" % i)\n",
        "    else:\n",
        "        print(\"%d is odd\" % i)"
      ]
    },
    {
      "cell_type": "code",
      "execution_count": 118,
      "metadata": {
        "uuid": "d15a40d3-e0c5-444c-83b8-68a08b1066de",
        "colab": {
          "base_uri": "https://localhost:8080/"
        },
        "id": "sdQcaQjOb9hq",
        "outputId": "80bf8248-c60e-4539-8563-3ee1524a7fbd"
      },
      "outputs": [
        {
          "output_type": "stream",
          "name": "stdout",
          "text": [
            "100\n"
          ]
        }
      ],
      "source": [
        "total = 0\n",
        "while total < 100:\n",
        "    total += 1\n",
        "print(total)"
      ]
    },
    {
      "cell_type": "code",
      "execution_count": 123,
      "metadata": {
        "uuid": "bcfe427d-ea2c-485a-aace-f2927afefbdd",
        "colab": {
          "base_uri": "https://localhost:8080/"
        },
        "id": "QGK0LJCIb9hq",
        "outputId": "9d7e312f-9d2a-40b1-bb46-e6f15f5e3067"
      },
      "outputs": [
        {
          "output_type": "execute_result",
          "data": {
            "text/plain": [
              "[0, 1, 4, 9, 16]"
            ]
          },
          "metadata": {},
          "execution_count": 123
        }
      ],
      "source": [
        "m = [i ** 2 for i in range(5)]\n",
        "m"
      ]
    },
    {
      "cell_type": "markdown",
      "metadata": {
        "id": "6aucyHybb9hr"
      },
      "source": [
        "### Excursion: Functional Programming"
      ]
    },
    {
      "cell_type": "code",
      "execution_count": 124,
      "metadata": {
        "uuid": "73fe24f8-e852-4b29-a488-901145b88120",
        "colab": {
          "base_uri": "https://localhost:8080/"
        },
        "id": "8SXC_YQRb9hr",
        "outputId": "b32c91bc-6314-4626-95ae-8e617383121e"
      },
      "outputs": [
        {
          "output_type": "execute_result",
          "data": {
            "text/plain": [
              "4"
            ]
          },
          "metadata": {},
          "execution_count": 124
        }
      ],
      "source": [
        "def f(x):\n",
        "    return x ** 2\n",
        "f(2)"
      ]
    },
    {
      "cell_type": "code",
      "execution_count": 125,
      "metadata": {
        "uuid": "af1c90bc-8688-4b64-a269-11b81e53b7f2",
        "colab": {
          "base_uri": "https://localhost:8080/"
        },
        "id": "LXgaaEVxb9hr",
        "outputId": "c8c7d865-fc7c-4d92-d234-addfd11eb483"
      },
      "outputs": [
        {
          "output_type": "execute_result",
          "data": {
            "text/plain": [
              "False"
            ]
          },
          "metadata": {},
          "execution_count": 125
        }
      ],
      "source": [
        "def even(x):\n",
        "    return x % 2 == 0\n",
        "even(3)"
      ]
    },
    {
      "cell_type": "code",
      "execution_count": 126,
      "metadata": {
        "uuid": "6b9746e8-1717-4f33-a9d8-46fbb8d6d114",
        "colab": {
          "base_uri": "https://localhost:8080/"
        },
        "id": "BXLY8P0Hb9hr",
        "outputId": "e27b1b0e-f751-4134-d393-665f14e47967"
      },
      "outputs": [
        {
          "output_type": "execute_result",
          "data": {
            "text/plain": [
              "[True, False, True, False, True, False, True, False, True, False]"
            ]
          },
          "metadata": {},
          "execution_count": 126
        }
      ],
      "source": [
        "list(map(even, range(10)))"
      ]
    },
    {
      "cell_type": "code",
      "execution_count": 127,
      "metadata": {
        "uuid": "b8e6e5a8-704f-4d72-b92c-0c42f15b53e8",
        "colab": {
          "base_uri": "https://localhost:8080/"
        },
        "id": "D9pWBT4gb9hr",
        "outputId": "adc6498e-9cf2-4bd7-be3d-b74672268bb0"
      },
      "outputs": [
        {
          "output_type": "execute_result",
          "data": {
            "text/plain": [
              "[0, 1, 4, 9, 16, 25, 36, 49, 64, 81]"
            ]
          },
          "metadata": {},
          "execution_count": 127
        }
      ],
      "source": [
        "list(map(lambda x: x ** 2, range(10)))"
      ]
    },
    {
      "cell_type": "code",
      "execution_count": 128,
      "metadata": {
        "uuid": "3354de29-f946-4076-a794-ba07969bf3b7",
        "colab": {
          "base_uri": "https://localhost:8080/"
        },
        "id": "CpaHDdYib9hr",
        "outputId": "0036a8ff-aae7-486a-ef75-5fba1ebecd27"
      },
      "outputs": [
        {
          "output_type": "execute_result",
          "data": {
            "text/plain": [
              "[0, 2, 4, 6, 8, 10, 12, 14]"
            ]
          },
          "metadata": {},
          "execution_count": 128
        }
      ],
      "source": [
        "list(filter(even, range(15)))"
      ]
    },
    {
      "cell_type": "markdown",
      "metadata": {
        "id": "8mux_VZvb9hs"
      },
      "source": [
        "### Dicts"
      ]
    },
    {
      "cell_type": "code",
      "execution_count": 129,
      "metadata": {
        "uuid": "14981fb1-5636-4c73-93c9-f8e18930cc6b",
        "colab": {
          "base_uri": "https://localhost:8080/"
        },
        "id": "qxat6M_Hb9hs",
        "outputId": "1dc0d251-f84f-411e-c6c7-437a28545f52"
      },
      "outputs": [
        {
          "output_type": "execute_result",
          "data": {
            "text/plain": [
              "dict"
            ]
          },
          "metadata": {},
          "execution_count": 129
        }
      ],
      "source": [
        "d = {\n",
        "     'Name' : 'Angela Merkel',\n",
        "     'Country' : 'Germany',\n",
        "     'Profession' : 'Chancelor',\n",
        "     'Age' : 64\n",
        "     }\n",
        "type(d)"
      ]
    },
    {
      "cell_type": "code",
      "execution_count": 130,
      "metadata": {
        "uuid": "786249fd-c888-4aa2-9157-973147ff2c2b",
        "colab": {
          "base_uri": "https://localhost:8080/"
        },
        "id": "HY93nyGab9hs",
        "outputId": "f37ce3d0-5d17-4f4f-d400-f71315a50d27"
      },
      "outputs": [
        {
          "output_type": "stream",
          "name": "stdout",
          "text": [
            "Angela Merkel 64\n"
          ]
        }
      ],
      "source": [
        "print(d['Name'], d['Age'])"
      ]
    },
    {
      "cell_type": "code",
      "execution_count": 131,
      "metadata": {
        "uuid": "33182240-3b00-4e43-922c-8189296791aa",
        "colab": {
          "base_uri": "https://localhost:8080/"
        },
        "id": "aeXNtqOYb9hs",
        "outputId": "55624c2a-5f1a-4301-aafc-8215461d17c5"
      },
      "outputs": [
        {
          "output_type": "execute_result",
          "data": {
            "text/plain": [
              "dict_keys(['Name', 'Country', 'Profession', 'Age'])"
            ]
          },
          "metadata": {},
          "execution_count": 131
        }
      ],
      "source": [
        "d.keys()"
      ]
    },
    {
      "cell_type": "code",
      "execution_count": 132,
      "metadata": {
        "uuid": "98b8e7a4-bac0-4299-9c47-c223269e24d7",
        "colab": {
          "base_uri": "https://localhost:8080/"
        },
        "id": "DtvHxotZb9hs",
        "outputId": "9dd7000c-c8e7-40eb-ec42-5de67df67728"
      },
      "outputs": [
        {
          "output_type": "execute_result",
          "data": {
            "text/plain": [
              "dict_values(['Angela Merkel', 'Germany', 'Chancelor', 64])"
            ]
          },
          "metadata": {},
          "execution_count": 132
        }
      ],
      "source": [
        "d.values()"
      ]
    },
    {
      "cell_type": "code",
      "execution_count": 133,
      "metadata": {
        "uuid": "48545763-dfe7-4bb2-ade3-d0598498726e",
        "colab": {
          "base_uri": "https://localhost:8080/"
        },
        "id": "05eho7MNb9hs",
        "outputId": "1a8f16dd-d07f-4a40-d2df-fb2460aaad93"
      },
      "outputs": [
        {
          "output_type": "execute_result",
          "data": {
            "text/plain": [
              "dict_items([('Name', 'Angela Merkel'), ('Country', 'Germany'), ('Profession', 'Chancelor'), ('Age', 64)])"
            ]
          },
          "metadata": {},
          "execution_count": 133
        }
      ],
      "source": [
        "d.items()"
      ]
    },
    {
      "cell_type": "code",
      "execution_count": 134,
      "metadata": {
        "uuid": "9ed881cc-0eef-4307-b93b-0a728d98d647",
        "colab": {
          "base_uri": "https://localhost:8080/"
        },
        "id": "Gf_sI8ISb9ht",
        "outputId": "87ec8a9b-99d3-462c-d4e6-2acd20de55fb"
      },
      "outputs": [
        {
          "output_type": "stream",
          "name": "stdout",
          "text": [
            "65\n"
          ]
        }
      ],
      "source": [
        "birthday = True\n",
        "if birthday:\n",
        "    d['Age'] += 1\n",
        "print(d['Age'])"
      ]
    },
    {
      "cell_type": "code",
      "execution_count": 135,
      "metadata": {
        "uuid": "a2f40c35-348f-4727-87b6-df2e1c5f6f15",
        "colab": {
          "base_uri": "https://localhost:8080/"
        },
        "id": "0fqmMIr-b9ht",
        "outputId": "e9e52a2e-6516-4695-d953-77671203b13d"
      },
      "outputs": [
        {
          "output_type": "stream",
          "name": "stdout",
          "text": [
            "('Name', 'Angela Merkel')\n",
            "('Country', 'Germany')\n",
            "('Profession', 'Chancelor')\n",
            "('Age', 65)\n"
          ]
        }
      ],
      "source": [
        "for item in d.items():\n",
        "    print(item)"
      ]
    },
    {
      "cell_type": "code",
      "execution_count": 136,
      "metadata": {
        "uuid": "2dc61967-ece2-48cd-af60-fcf58eb68270",
        "colab": {
          "base_uri": "https://localhost:8080/"
        },
        "id": "nD1fNeXRb9ht",
        "outputId": "37ba6e85-1993-4e7b-f2dc-05b7b16c0a1a"
      },
      "outputs": [
        {
          "output_type": "stream",
          "name": "stdout",
          "text": [
            "<class 'str'>\n",
            "<class 'str'>\n",
            "<class 'str'>\n",
            "<class 'int'>\n"
          ]
        }
      ],
      "source": [
        "for value in d.values():\n",
        "    print(type(value))"
      ]
    },
    {
      "cell_type": "markdown",
      "metadata": {
        "id": "lLoIjpu1b9ht"
      },
      "source": [
        "### Sets"
      ]
    },
    {
      "cell_type": "code",
      "execution_count": 137,
      "metadata": {
        "uuid": "7037930a-6fda-493e-8922-2095f50c76e5",
        "colab": {
          "base_uri": "https://localhost:8080/"
        },
        "id": "SYHBIqmHb9ht",
        "outputId": "d96c6cde-c767-4583-d451-2719631fc192"
      },
      "outputs": [
        {
          "output_type": "execute_result",
          "data": {
            "text/plain": [
              "{'d', 'du', 'u', 'ud'}"
            ]
          },
          "metadata": {},
          "execution_count": 137
        }
      ],
      "source": [
        "s = set(['u', 'd', 'ud', 'du', 'd', 'du'])\n",
        "s"
      ]
    },
    {
      "cell_type": "code",
      "execution_count": 138,
      "metadata": {
        "uuid": "c649fb45-81fd-4d46-9ea0-4462203fde81",
        "id": "kPWYjsaGb9ht"
      },
      "outputs": [],
      "source": [
        "t = set(['d', 'dd', 'uu', 'u'])"
      ]
    },
    {
      "cell_type": "code",
      "execution_count": 139,
      "metadata": {
        "uuid": "d592a20e-c8bd-4db4-b0db-f4f30b3ddb9a",
        "colab": {
          "base_uri": "https://localhost:8080/"
        },
        "id": "jb_1EZ9ab9hu",
        "outputId": "830b1530-17ca-4717-8af0-0aa65f006fbf"
      },
      "outputs": [
        {
          "output_type": "execute_result",
          "data": {
            "text/plain": [
              "{'d', 'dd', 'du', 'u', 'ud', 'uu'}"
            ]
          },
          "metadata": {},
          "execution_count": 139
        }
      ],
      "source": [
        "s.union(t)"
      ]
    },
    {
      "cell_type": "code",
      "execution_count": 140,
      "metadata": {
        "uuid": "0c60085c-d1e9-4023-9909-8f8623f1620e",
        "colab": {
          "base_uri": "https://localhost:8080/"
        },
        "id": "UoQEfl_Xb9hu",
        "outputId": "4cf08cce-7a31-4c44-8a71-3495dc0d3a57"
      },
      "outputs": [
        {
          "output_type": "execute_result",
          "data": {
            "text/plain": [
              "{'d', 'u'}"
            ]
          },
          "metadata": {},
          "execution_count": 140
        }
      ],
      "source": [
        "s.intersection(t)"
      ]
    },
    {
      "cell_type": "code",
      "execution_count": 141,
      "metadata": {
        "uuid": "c2efb482-02dc-41f6-ba00-4bbdccbfa905",
        "colab": {
          "base_uri": "https://localhost:8080/"
        },
        "id": "0v-PoRBZb9hu",
        "outputId": "26648239-66b4-4db7-a92a-115bdaeb41d4"
      },
      "outputs": [
        {
          "output_type": "execute_result",
          "data": {
            "text/plain": [
              "{'du', 'ud'}"
            ]
          },
          "metadata": {},
          "execution_count": 141
        }
      ],
      "source": [
        "s.difference(t)"
      ]
    },
    {
      "cell_type": "code",
      "execution_count": 142,
      "metadata": {
        "uuid": "ad2a4b31-8cea-41ef-af26-164ba264dd08",
        "colab": {
          "base_uri": "https://localhost:8080/"
        },
        "id": "2PkoDCJpb9hu",
        "outputId": "a486c753-62d1-4b7d-b1e4-1a70d91df1fa"
      },
      "outputs": [
        {
          "output_type": "execute_result",
          "data": {
            "text/plain": [
              "{'dd', 'uu'}"
            ]
          },
          "metadata": {},
          "execution_count": 142
        }
      ],
      "source": [
        "t.difference(s)"
      ]
    },
    {
      "cell_type": "code",
      "execution_count": 143,
      "metadata": {
        "uuid": "1a040fc4-58d0-454d-b21a-59ce4325914d",
        "colab": {
          "base_uri": "https://localhost:8080/"
        },
        "id": "3-4i16mNb9hu",
        "outputId": "c62dde52-9594-43ef-a0d0-f5d93c381b8f"
      },
      "outputs": [
        {
          "output_type": "execute_result",
          "data": {
            "text/plain": [
              "{'dd', 'du', 'ud', 'uu'}"
            ]
          },
          "metadata": {},
          "execution_count": 143
        }
      ],
      "source": [
        "s.symmetric_difference(t)"
      ]
    },
    {
      "cell_type": "code",
      "execution_count": 144,
      "metadata": {
        "uuid": "a9173c67-0fff-4313-a1c6-c9f52f911b00",
        "colab": {
          "base_uri": "https://localhost:8080/"
        },
        "id": "BYk2Jvymb9hu",
        "outputId": "6fa46bc6-e02e-4d06-9641-834431838b51"
      },
      "outputs": [
        {
          "output_type": "execute_result",
          "data": {
            "text/plain": [
              "1000"
            ]
          },
          "metadata": {},
          "execution_count": 144
        }
      ],
      "source": [
        "from random import randint\n",
        "l = [randint(0, 10) for i in range(1000)]\n",
        "len(l)"
      ]
    },
    {
      "cell_type": "code",
      "execution_count": 145,
      "metadata": {
        "uuid": "b79db3dd-9264-49c1-8163-ca5ac1dca35d",
        "colab": {
          "base_uri": "https://localhost:8080/"
        },
        "id": "u-8NdJ1qb9hv",
        "outputId": "9845b6de-3b9b-4d6d-dfa3-e86b7e46cf56"
      },
      "outputs": [
        {
          "output_type": "execute_result",
          "data": {
            "text/plain": [
              "[8, 9, 10, 2, 10, 2, 7, 10, 3, 7, 10, 7, 3, 10, 4, 6, 5, 7, 3, 10]"
            ]
          },
          "metadata": {},
          "execution_count": 145
        }
      ],
      "source": [
        "l[:20]"
      ]
    },
    {
      "cell_type": "code",
      "execution_count": 146,
      "metadata": {
        "uuid": "918b67ef-4b7e-456c-8133-60de3ae680f6",
        "colab": {
          "base_uri": "https://localhost:8080/"
        },
        "id": "-82LAuOmb9hv",
        "outputId": "1043efa6-f1b7-42ac-b166-97b3518bac37"
      },
      "outputs": [
        {
          "output_type": "execute_result",
          "data": {
            "text/plain": [
              "{0, 1, 2, 3, 4, 5, 6, 7, 8, 9, 10}"
            ]
          },
          "metadata": {},
          "execution_count": 146
        }
      ],
      "source": [
        "s = set(l)\n",
        "s"
      ]
    }
  ],
  "metadata": {
    "anaconda-cloud": {},
    "kernelspec": {
      "display_name": "Python 3",
      "language": "python",
      "name": "python3"
    },
    "language_info": {
      "codemirror_mode": {
        "name": "ipython",
        "version": 3
      },
      "file_extension": ".py",
      "mimetype": "text/x-python",
      "name": "python",
      "nbconvert_exporter": "python",
      "pygments_lexer": "ipython3",
      "version": "3.6.7"
    },
    "colab": {
      "provenance": [],
      "include_colab_link": true
    }
  },
  "nbformat": 4,
  "nbformat_minor": 0
}